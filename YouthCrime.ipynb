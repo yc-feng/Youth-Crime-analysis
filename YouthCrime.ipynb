{
 "cells": [
  {
   "cell_type": "markdown",
   "id": "6ef62cbd-2ea0-442e-973e-e50ca1e97fa2",
   "metadata": {
    "cell_name": "header_cell",
    "tags": []
   },
   "source": [
    "# Youth Crime in Queensland"
   ]
  },
  {
   "cell_type": "markdown",
   "id": "52b336d7-31c2-412c-8e2f-998ab7105af7",
   "metadata": {
    "tags": []
   },
   "source": [
    "## Background and Introduction\n",
    "Youth crime is a pressing issue recently in Australia that directly affects the safety of communities. As the offences committed by juveniles happened frequently, people's concerns about the safety of life and property are increasing. In Figure 1, it shows the number of youth crime related news published by The Guardian in each month since 2021, it can be observed that the number is increasing since 2022 generally. \n",
    "\n",
    "As society pays more and more attention to the issue of youth crime, policymakers can play a significant role in solving this problem. The purpose of this research is to produce a comprehensive understanding of the most common types of offences committed by juveniles and the trends in local areas. By analysing this data, policymakers can develop targeted strategies and policies to address the issue effectively.\n",
    "\n",
    "- Ethics: Using the actual numbers of the news published to support that the concern is not personal feeling.\n",
    "- Reason for choosing the topic: Although the growing concern about youth crime in society, there are no indications that it is decreasing. It can still be seen that robbery or other offences of youth crime occurred frequently reveal by the news. That can be considered an urgent issue that needs to be solved."
   ]
  },
  {
   "cell_type": "markdown",
   "id": "54125f79-9eaf-43b0-a5c7-ca2beb567587",
   "metadata": {},
   "source": [
    "**Figure 1.**"
   ]
  },
  {
   "cell_type": "markdown",
   "id": "81f4002b-3f2b-42c6-892c-d23d5ab79f1d",
   "metadata": {},
   "source": [
    "![alt text](newsplot.png)"
   ]
  },
  {
   "cell_type": "markdown",
   "id": "a42c7bb1-e068-437d-b927-2890272e0172",
   "metadata": {
    "jp-MarkdownHeadingCollapsed": true,
    "tags": []
   },
   "source": [
    "## General Question:\n",
    "How youth crime has changed over time in different local areas in Queensland? Additionally, are there certain types of offences that occur more frequently among youth compared to adults, and do these patterns differ in different local areas?\n",
    "\n",
    "- Purpose: By answering this question, a comprehensive understanding of the temporal trends and changes in youth crime, and the specific offence types prevalent among youth crime can be concluded. This information can assist policymakers and communities in developing targeted interventions and strategies to address youth crime in different local areas.\n",
    "\n",
    "- Ethics: Before answering this question, it is important to analyse all areas thoroughly, rather than just focusing on certain areas that may be got more concern. There are no assumptions here.\n",
    "\n",
    "- Intended Audience: This can be everyone, not only the Queenslanders. This issue is not limited to a specific country, and therefore, the analysis findings can be shared with the world as valuable reference information.\n"
   ]
  },
  {
   "cell_type": "markdown",
   "id": "a8ff1a6f-12d4-462a-82d9-9694d2d5ad56",
   "metadata": {
    "tags": []
   },
   "source": [
    "## Major Data Source\n",
    "1. Queensland Police provide various open data on their [Maps and Statistics webpage](https://www.police.qld.gov.au/maps-and-statistics). For this research, the offences data including location information and offences type are needed. Furthermore, the information about whether the offenders are juveniles is also important. Therefore, `LGA Reported offenders number`, the dataset includes the major information we need, be selected as the data source .\n",
    "\n",
    "2. To understand the variation between local areas, visualisation can be important. Australian Government provides open data `QLD Local Government Areas - PSMA Administrative Boundaries GeoJSON(GEOJSON)` show the geographic information of each local govcernment in `GeoJSON file` on [data.gov.au](https://data.gov.au/dataset/ds-dga-16803f0b-6934-41ae-bf82-d16265784c7f/details?q=Queensland%20LGA%20boundaries).\n",
    "\n",
    "- Ethics: The data contain all crime data in Queensland, including all sex, age, and all types of offences.\n",
    "- Source: All the data are from the government and all open data. \n",
    "- Limitations: The crime data show the crime detail to local areas, not suburbs or even streets. The crime data did not show the date of a specific time. It is limited to local areas and monthly data from January 2001 to April 2023. \n",
    "- Quality: All data quality is well with good columns name and no null data.\n",
    "- Amount: There are 125424 rows of data with 89 kinds of offences and 78 local areas.\n"
   ]
  },
  {
   "cell_type": "markdown",
   "id": "b6dee7c8-ae42-4284-8513-9648b3b5a8d9",
   "metadata": {
    "jp-MarkdownHeadingCollapsed": true,
    "tags": []
   },
   "source": [
    "### Import packages"
   ]
  },
  {
   "cell_type": "code",
   "execution_count": null,
   "id": "2daab6f5-2e0d-4bce-aeac-2fedb15e3274",
   "metadata": {},
   "outputs": [],
   "source": [
    "# Import packages \n",
    "import pandas as pd\n",
    "import numpy as np\n",
    "import plotly.express as px\n",
    "import plotly.graph_objects as go\n",
    "from plotly.subplots import make_subplots\n",
    "from datetime import datetime\n",
    "import requests\n",
    "from sklearn.cluster import KMeans\n",
    "from sklearn.preprocessing import minmax_scale\n"
   ]
  },
  {
   "cell_type": "markdown",
   "id": "d2778b63-24ec-473e-8af5-28e13b65f306",
   "metadata": {
    "jp-MarkdownHeadingCollapsed": true,
    "tags": []
   },
   "source": [
    "### LGA Reported offenders number"
   ]
  },
  {
   "cell_type": "markdown",
   "id": "5dc55739-60e5-4c92-a4c5-ce332324acd1",
   "metadata": {
    "jp-MarkdownHeadingCollapsed": true,
    "tags": []
   },
   "source": [
    "#### Read data from URL\n",
    "The dataset `LGA Reported offenders number` is provided to the public on [Maps and Statistics webpage](https://www.police.qld.gov.au/maps-and-statistics). It can be downloaded with a specific URL."
   ]
  },
  {
   "cell_type": "code",
   "execution_count": null,
   "id": "33d3004d-0251-4a2a-b436-b618ba4b2c35",
   "metadata": {},
   "outputs": [],
   "source": [
    "# Set the URL for the data source\n",
    "url = 'https://open-crime-data.s3-ap-southeast-2.amazonaws.com/Crime%20Statistics/LGA_Reported_Offenders_Number.csv'"
   ]
  },
  {
   "cell_type": "markdown",
   "id": "d588b0c4-3dd2-49d1-ac4a-707ec291180a",
   "metadata": {},
   "source": [
    "`pd.read_csv` can be used to read a specific csv file. <br>\n",
    "`index_col=False`, use the headers as the columns names  \n",
    "\n",
    "NOTE: The last column of this data is a number sequence and has no header, if `index_col=False` has been set will not read the last column and show a **ParserWarning**. Because the number sequence data was not essential, the **ParserWarning** can be ignored."
   ]
  },
  {
   "cell_type": "code",
   "execution_count": null,
   "id": "e97e889b-14d0-4d22-bff3-e9b1a6a0a733",
   "metadata": {},
   "outputs": [],
   "source": [
    "# Read csv data from specific URL\n",
    "df_lga = pd.read_csv(url, index_col=False)\n",
    "df_lga.head(10)"
   ]
  },
  {
   "cell_type": "code",
   "execution_count": null,
   "id": "84374b7c-e0eb-49ee-bed9-b16d2f52e5a9",
   "metadata": {},
   "outputs": [],
   "source": [
    "total_data = len(df_lga)\n",
    "offence_type_count = len(df_lga.columns)-4\n",
    "local_areas_count = len(df_lga['LGA Name'].unique())\n",
    "print(f'There are {total_data} rows of data')\n",
    "print(f'There are {offence_type_count} kinds of offences')\n",
    "print(f'There are {local_areas_count} local areas')"
   ]
  },
  {
   "cell_type": "markdown",
   "id": "8cf7459e-3981-49a7-bf63-f26095d06142",
   "metadata": {},
   "source": [
    "Most data can be identify the meaning by the column name, but `Other Offences`.\n",
    "According to [2016 - 2017 Annual Statistical Review](https://www.police.qld.gov.au/sites/default/files/2019-01/AnnualStatisticalReview_2016-17.pdf), `Other offences` include various offence types. Generally these offences detected by police rather than being reported by the public, such as Drug offences, traffic\n",
    "offences and good order offences."
   ]
  },
  {
   "cell_type": "markdown",
   "id": "7d7c4961-5eec-427d-b82c-f25343004f08",
   "metadata": {
    "jp-MarkdownHeadingCollapsed": true,
    "tags": []
   },
   "source": [
    "#### Data cleaning\n",
    "To make sure the data quality, data cleaning is an essential step.\n",
    "Firstly, remove or fill in the missing data. Secondly, convert the data with the wrong data type to the data type they should be.\n"
   ]
  },
  {
   "cell_type": "code",
   "execution_count": null,
   "id": "ba714dfa-1b4b-4b52-8592-067b502f2ed5",
   "metadata": {},
   "outputs": [],
   "source": [
    "# Check missing data\n",
    "print('na data: ', df_lga.isna().sum().sum())\n",
    "print('null data:', df_lga.isnull().sum().sum())"
   ]
  },
  {
   "cell_type": "markdown",
   "id": "8d2733a1-8779-4f40-9a73-e8ad9f67eb04",
   "metadata": {},
   "source": [
    "There are no `na` or `null` data. But it may exist `whitespace` or `empty` data that can impact the data quality. `pandas.Series.value_counts` can show the unique values, that can be used to check `whitespace` or `empty`. Only `LGA Name`, `Month Year`, `Age`, `Sex` need be checked because only the string(object) type columes can include `whitespace` or `empty`."
   ]
  },
  {
   "cell_type": "code",
   "execution_count": null,
   "id": "204d6392-af0a-4a1c-8135-496e695d2d11",
   "metadata": {},
   "outputs": [],
   "source": [
    "# Check district\n",
    "print('whitespace or empty in LGA Name:',\n",
    "      [v for v in df_lga['LGA Name'].value_counts().index if len(v.strip()) == 0])"
   ]
  },
  {
   "cell_type": "code",
   "execution_count": null,
   "id": "314e8758-66fa-473b-beab-01b536b133e3",
   "metadata": {},
   "outputs": [],
   "source": [
    "# Check Month Year\n",
    "print('whitespace or empty in Month Year:',\n",
    "      [v for v in df_lga['Month Year'].value_counts().index if len(v.strip()) == 0])"
   ]
  },
  {
   "cell_type": "code",
   "execution_count": null,
   "id": "9724b158-c06a-4a3e-be05-70c8a04dc48e",
   "metadata": {},
   "outputs": [],
   "source": [
    "# Check Month Year\n",
    "print('whitespace or empty in Age:',\n",
    "      [v for v in df_lga['Age'].value_counts().index if len(v.strip()) == 0])"
   ]
  },
  {
   "cell_type": "code",
   "execution_count": null,
   "id": "257f6d01-d602-43a2-be65-d40f5ac067bd",
   "metadata": {},
   "outputs": [],
   "source": [
    "# Check Month Year\n",
    "print('whitespace or empty in Sex:',\n",
    "      [v for v in df_lga['Sex'].value_counts().index if len(v.strip()) == 0])"
   ]
  },
  {
   "cell_type": "markdown",
   "id": "1968818a-b673-4739-a6ed-eda4f6516302",
   "metadata": {
    "tags": []
   },
   "source": [
    "--There are no missing data--"
   ]
  },
  {
   "cell_type": "code",
   "execution_count": null,
   "id": "7f2c0782-6563-4a8e-adbf-9735879d56e0",
   "metadata": {},
   "outputs": [],
   "source": [
    "# Check data type\n",
    "# It can be simply split the columns into two group\n",
    "\n",
    "# The columns that should be string (object):('LGA Name', 'Month Year', 'Age', 'Sex')\n",
    "cols_str = list(df_lga.columns[:4])\n",
    "\n",
    "# The columns that should be int: the others\n",
    "cols_int = list(df_lga.columns[4:])"
   ]
  },
  {
   "cell_type": "code",
   "execution_count": null,
   "id": "39cfc878-5635-49f7-b76d-e7e82c8eb3b6",
   "metadata": {},
   "outputs": [],
   "source": [
    "# Show the object column in the wrong type\n",
    "for column in df_lga[cols_str]:\n",
    "    if df_lga[column].dtype != 'object':\n",
    "        print(f\"Column '{column}' is not type object.\")"
   ]
  },
  {
   "cell_type": "code",
   "execution_count": null,
   "id": "cee22108-ad36-4fb8-88d9-2c625b08ede9",
   "metadata": {},
   "outputs": [],
   "source": [
    "# Show the int column in the wrong type\n",
    "for column in df_lga[cols_int]:\n",
    "    if df_lga[column].dtype != 'int64':\n",
    "        print(f\"Column '{column.dtype}' is not type int64.\")"
   ]
  },
  {
   "cell_type": "markdown",
   "id": "7a150ff4-682b-4c52-ba49-fd8521650d13",
   "metadata": {
    "tags": []
   },
   "source": [
    "--There are no wrong type data--<br>\n",
    "However, `Month Year` can be converted into `datetime` data type. Because it can be good for sorting, filtering, and comparing. "
   ]
  },
  {
   "cell_type": "code",
   "execution_count": null,
   "id": "b539b55b-6b28-4ad7-b28e-754fadf0dfe0",
   "metadata": {},
   "outputs": [],
   "source": [
    "# A function to convert the specific format ('JAN01' = January, 2001) string to datetime\n",
    "def convert_to_datetime(string):\n",
    "    month = string[:3]\n",
    "    year = string[3:]\n",
    "    dt = datetime.strptime(month, '%b').replace(year=2000+int(year))\n",
    "    return dt"
   ]
  },
  {
   "cell_type": "code",
   "execution_count": null,
   "id": "eeee9ad9-a71c-4ab3-ab6b-122112c07769",
   "metadata": {},
   "outputs": [],
   "source": [
    "# Convert the Month Year by function convert_to_datetime\n",
    "df_lga['Month Year'] = df_lga['Month Year'].apply(convert_to_datetime)\n"
   ]
  },
  {
   "cell_type": "code",
   "execution_count": null,
   "id": "c0b7c48e-8a37-4af5-ae32-ab4e676dea6d",
   "metadata": {},
   "outputs": [],
   "source": [
    "# Check result\n",
    "print(df_lga['Month Year'].dtype)\n",
    "df_lga.head(10)"
   ]
  },
  {
   "cell_type": "code",
   "execution_count": null,
   "id": "2a1a54df-3ceb-433c-9f9b-c0cdfc3b412b",
   "metadata": {},
   "outputs": [],
   "source": [
    "min_date = df_lga['Month Year'].min()\n",
    "max_date = df_lga['Month Year'].max()\n",
    "print(f'The data is between {min_date.month}/{min_date.year} and {max_date.month}/{max_date.year}')"
   ]
  },
  {
   "cell_type": "markdown",
   "id": "614ffe88-8a63-457c-b8d9-498c5b43059a",
   "metadata": {},
   "source": [
    "--Data cleaning finish--"
   ]
  },
  {
   "cell_type": "markdown",
   "id": "d837626e-275f-42ef-8409-7ecfbb54d71a",
   "metadata": {
    "jp-MarkdownHeadingCollapsed": true,
    "tags": []
   },
   "source": [
    "### QLD Local Government Areas - PSMA Administrative Boundaries GeoJSON(GEOJSON)"
   ]
  },
  {
   "cell_type": "markdown",
   "id": "91d1cf35-ce76-418c-bfe5-ebe7dbd6289c",
   "metadata": {
    "tags": []
   },
   "source": [
    "#### Read data from URL\n",
    "\n",
    "Download GeoJSON file `QLD Local Government Areas - PSMA Administrative Boundaries GeoJSON(GEOJSON)` from [data.gov.au](https://data.gov.au/dataset/ds-dga-16803f0b-6934-41ae-bf82-d16265784c7f/details?q=Queensland%20LGA%20boundaries)."
   ]
  },
  {
   "cell_type": "code",
   "execution_count": null,
   "id": "0991ddf8-2bec-4d1a-b2e1-98251e256e3d",
   "metadata": {},
   "outputs": [],
   "source": [
    "# url of GeoJSON of LGA area\n",
    "url_geojson = 'https://data.gov.au/geoserver/qld-local-government-areas-psma-administrative-boundaries/wfs?request=GetFeature&typeName=ckan_16803f0b_6934_41ae_bf82_d16265784c7f&outputFormat=json'"
   ]
  },
  {
   "cell_type": "code",
   "execution_count": null,
   "id": "19d3c868-e5bc-4908-b2a9-4c9194d2e471",
   "metadata": {},
   "outputs": [],
   "source": [
    "# Read GeoJSON file from url\n",
    "response = requests.get(url_geojson)\n",
    "geojson_data = response.json()"
   ]
  },
  {
   "cell_type": "code",
   "execution_count": null,
   "id": "15fcac53-214d-434f-9c49-0575c55ff553",
   "metadata": {},
   "outputs": [],
   "source": [
    "# Read GeoJSON file into a pandas DataFrame\n",
    "df_geo = pd.DataFrame(geojson_data, columns=['type', 'features'])"
   ]
  },
  {
   "cell_type": "code",
   "execution_count": null,
   "id": "3150004b-2274-46a0-95d2-6f3dfed58571",
   "metadata": {},
   "outputs": [],
   "source": [
    "# Extract local government name and the specific id from json file\n",
    "df_geo['loca'] = df_geo['features'].apply(lambda x: x['properties']).apply(lambda x: x['qld_lga__2'])\n",
    "df_geo['id_'] = df_geo['features'].apply(lambda x: x['id'])"
   ]
  },
  {
   "cell_type": "code",
   "execution_count": null,
   "id": "7c96522c-e7b7-40c6-b4e9-fa7a4f47da33",
   "metadata": {},
   "outputs": [],
   "source": [
    "df_geo.head(10)"
   ]
  },
  {
   "cell_type": "markdown",
   "id": "adb3f93a-e299-4a65-a3e4-baf1e9f0b6ca",
   "metadata": {
    "tags": []
   },
   "source": [
    "#### Data cleaning\n",
    "Make sure the local government name of `df_geo` match to the major data `df_lga`"
   ]
  },
  {
   "cell_type": "code",
   "execution_count": null,
   "id": "c828c5b2-e4cc-4030-b688-13fa14fc507e",
   "metadata": {},
   "outputs": [],
   "source": [
    "# Convert the local government name in both dataframe to lower case\n",
    "\n",
    "# Add 'council' to match df_lga\n",
    "df_geo['loca'] = df_geo['loca'].str.lower() + ' council'\n",
    "df_lga['LGA Name'] = df_lga['LGA Name'].str.lower()"
   ]
  },
  {
   "cell_type": "code",
   "execution_count": null,
   "id": "93ee08c1-fc47-4b28-8ade-b9da629da485",
   "metadata": {},
   "outputs": [],
   "source": [
    "# Extract no repeated local government name from df_geo\n",
    "geo_lga = df_geo['loca'].drop_duplicates().sort_values().reset_index(drop=True)"
   ]
  },
  {
   "cell_type": "code",
   "execution_count": null,
   "id": "9985cc80-1d6c-43de-8877-8f13c8b42dda",
   "metadata": {},
   "outputs": [],
   "source": [
    "mj_lga = df_lga['LGA Name'].drop_duplicates().sort_values().reset_index(drop=True)"
   ]
  },
  {
   "cell_type": "code",
   "execution_count": null,
   "id": "7e74c7a2-e653-4cf7-b3c5-d46d6de4b6ad",
   "metadata": {},
   "outputs": [],
   "source": [
    "# Check the lenth are the same\n",
    "check = 'yes' if len(mj_lga) == len(geo_lga) else 'No'\n",
    "print(f'Is the two data have the same number of local government name: {check}')"
   ]
  },
  {
   "cell_type": "code",
   "execution_count": null,
   "id": "63cd97c0-b86a-496f-82e2-b55194fc2e97",
   "metadata": {},
   "outputs": [],
   "source": [
    "# Check any mismatch\n",
    "count = 0\n",
    "for i, name in enumerate(mj_lga):\n",
    "    if name != geo_lga[i]:\n",
    "        count+=1\n",
    "        print(f'df_lga shows {name}, but df_geo shows {geo_lga[i]}')\n",
    "print(f'There are {count} mismatch')"
   ]
  },
  {
   "cell_type": "markdown",
   "id": "beac6f78-53c2-4589-8dd7-c952c9ed4038",
   "metadata": {},
   "source": [
    "There are several names are different between two data, we need map them manually"
   ]
  },
  {
   "cell_type": "code",
   "execution_count": null,
   "id": "c98df3df-d937-4dbd-893b-e41b399b0cf0",
   "metadata": {},
   "outputs": [],
   "source": [
    "# Create a mapping dictionart for local government name\n",
    "name_mapping_dic = {}\n",
    "\n",
    "name_mapping_dic['lockhart river aboriginal shire council']=  'lockhart river shire council'      \n",
    "name_mapping_dic['napranum aboriginal shire council'      ]=  'napranum shire council'            \n",
    "name_mapping_dic['palm island aboriginal shire council'   ]=  'palm island shire council'         \n",
    "name_mapping_dic['woorabinda aboriginal shire council'    ]=  'woorabinda shire council'          \n",
    "name_mapping_dic['mapoon aboriginal shire council'        ]=  'mapoon shire council'              \n",
    "name_mapping_dic['yarrabah aboriginal shire council'      ]=  'yarrabah shire council'            \n",
    "name_mapping_dic['doomadgee aboriginal shire council'     ]=  'doomadgee shire council'           \n",
    "name_mapping_dic['wujal wujal aboriginal shire council'   ]=  'wujal wujal shire council'         \n",
    "name_mapping_dic['cherbourg aboriginal shire council'     ]=  'cherbourg shire council'         \n",
    "name_mapping_dic['pormpuraaw aboriginal shire council'    ]=  'pormpuraaw shire council'          \n",
    "name_mapping_dic['blackall tambo regional council'        ]=  'blackall-tambo regional council'   \n",
    "name_mapping_dic['hope vale aboriginal shire council'     ]=  'hope vale shire council'           \n",
    "name_mapping_dic['kowanyama aboriginal shire council'     ]=  'kowanyama shire council'           "
   ]
  },
  {
   "cell_type": "code",
   "execution_count": null,
   "id": "d0e56ffb-2a18-44f3-aaf6-0e4f02354a33",
   "metadata": {},
   "outputs": [],
   "source": [
    "# Map the LGA name of df_geo to df_lga\n",
    "df_geo['LGA Name'] = df_geo['loca'].apply(lambda x: name_mapping_dic.get(x, x))"
   ]
  },
  {
   "cell_type": "code",
   "execution_count": null,
   "id": "83e281ad-ca79-4f02-a212-d7f4acf06113",
   "metadata": {},
   "outputs": [],
   "source": [
    "# check again any mismatch\n",
    "geo_lga = df_geo['LGA Name'].drop_duplicates().sort_values().reset_index(drop=True)\n",
    "mj_lga = df_lga['LGA Name'].drop_duplicates().sort_values().reset_index(drop=True)\n",
    "count = 0\n",
    "for i, name in enumerate(mj_lga):\n",
    "    if name != geo_lga[i]:\n",
    "        count+=1\n",
    "        print(f'df_lga shows {name}, but df_geo shows {geo_lga[i]}')\n",
    "print(f'There are {count} mismatch')"
   ]
  },
  {
   "cell_type": "markdown",
   "id": "c530280f-af86-4f2f-902e-26ac08820b28",
   "metadata": {},
   "source": [
    "All data are ready and match to each other.<br>\n",
    "--Data clean done!--"
   ]
  },
  {
   "cell_type": "markdown",
   "id": "9a24896d-3a4c-4d84-8aa1-a215893bebd4",
   "metadata": {
    "tags": []
   },
   "source": [
    "## Question 1\n",
    "What are the temporal trends in youth crime across different local areas over time?\n",
    "- This question aims to analyse the variations in youth crime and identify the temporal trends. By understanding temporal trends across different local areas, we can gain insights into the local areas that can be helpful for policymakers in considering the resource allocation for each area and the prioritisation."
   ]
  },
  {
   "cell_type": "markdown",
   "id": "a659cc43-9584-465d-bb47-291035b6d66f",
   "metadata": {
    "jp-MarkdownHeadingCollapsed": true,
    "tags": []
   },
   "source": [
    "###### Auxiliary Functons for Data Analysis"
   ]
  },
  {
   "cell_type": "markdown",
   "id": "2e53994b-4287-4919-bc63-3c8560a3cf36",
   "metadata": {},
   "source": [
    "Build the functions to avoid doing repeat code"
   ]
  },
  {
   "cell_type": "code",
   "execution_count": null,
   "id": "28d43bc8-d6d2-4ffb-a702-494542023638",
   "metadata": {},
   "outputs": [],
   "source": [
    "def add_adult_juvenile(df, df_source, merge_cols):\n",
    "    '''\n",
    "    This function aims to create two new columns 'Adult' and 'Juvenile' on 'df',\n",
    "    and merge the number from 'df_souce' into 'df' based on the 'merge_cols'\n",
    "    '''\n",
    "    lst_age = ['Adult', 'Juvenile']\n",
    "    \n",
    "    for age in lst_age:\n",
    "        df = df.merge(df_source[df_source['Age'] == age][merge_cols + ['all']],\n",
    "                                            on=merge_cols, how='left', suffixes=('', '_x'))\n",
    "        df[age] = df['all_x']\n",
    "        df.drop('all_x', axis=1, inplace=True)\n",
    "\n",
    "    return df"
   ]
  },
  {
   "cell_type": "code",
   "execution_count": null,
   "id": "e9d38e95-3302-4fc1-beb5-7493c585d1f4",
   "metadata": {},
   "outputs": [],
   "source": [
    "def add_analysis_cols(df):\n",
    "    '''\n",
    "    This function can create several extended columns from columns\n",
    "    'all', 'Adult', and 'Juvenile' on the input dataframe, \n",
    "    these columns can show the difference between rows and the changing rate\n",
    "    '''\n",
    "    df['all_increase'] = df['all'].diff()\n",
    "    df['all_increase_%'] = (df['all'].diff() / df['all'].shift(1)) * 100\n",
    "\n",
    "    df['Juvenile_%'] = (df['Juvenile']/df['all'])*100\n",
    "    df['Juvenile_increase'] = df['Juvenile'].diff()\n",
    "    df['Juvenile_increase_%'] = (df['Juvenile'].diff() / df['Juvenile'].shift(1)) * 100\n",
    "\n",
    "    df['Adult_%'] = (df['Adult']/df['all'])*100\n",
    "    df['Adult_increase'] = df['Adult'].diff()\n",
    "    df['Adult_increase_%'] = (df['Adult'].diff() / df['Adult'].shift(1)) * 100\n",
    "\n",
    "    df.fillna(0, inplace=True)\n",
    "    \n",
    "    return df"
   ]
  },
  {
   "cell_type": "markdown",
   "id": "6459fde7-ba8e-4398-aa63-6b7ca6ac8a12",
   "metadata": {
    "tags": []
   },
   "source": [
    "### Question 1.1\n",
    "What are the temporal trends in youth crime compared to the other crime for the past decades?\n"
   ]
  },
  {
   "cell_type": "markdown",
   "id": "dbd4cf8d-ce54-46e8-aaa8-8e6426bf6407",
   "metadata": {
    "jp-MarkdownHeadingCollapsed": true,
    "tags": []
   },
   "source": [
    "##### Data "
   ]
  },
  {
   "cell_type": "markdown",
   "id": "d741c70d-19d4-4e0e-b507-3cd58b7f4054",
   "metadata": {},
   "source": [
    "There is one data might be used in answering this question:\n",
    "1. The major data `df_lga` for analysing crime data"
   ]
  },
  {
   "cell_type": "code",
   "execution_count": null,
   "id": "2abe619d-deea-4c02-84a2-35093e31aebf",
   "metadata": {},
   "outputs": [],
   "source": [
    "# Major data\n",
    "df_lga_q1 = df_lga.copy()"
   ]
  },
  {
   "cell_type": "markdown",
   "id": "1a9b9499-93ef-408b-8c79-4cf928932fcd",
   "metadata": {
    "jp-MarkdownHeadingCollapsed": true,
    "tags": []
   },
   "source": [
    "##### Analysis"
   ]
  },
  {
   "cell_type": "markdown",
   "id": "fa8fe73d-bb2e-4e6b-ac2e-e4aa0ef47af5",
   "metadata": {},
   "source": [
    "Firstly, to answer this question, we will focus on the difference between Adult and Juvenile. Therefore, we can scrap the `Sex` column by group up it. Then we can have an overview of temporal trends by years of the number of crime cases including adults and juveniles. \n",
    "\n",
    "- Ethics: To consider the overall situation, not take only some specific gender of the offender"
   ]
  },
  {
   "cell_type": "code",
   "execution_count": null,
   "id": "fb663670-7b43-4aac-af67-0a7e3fa43841",
   "metadata": {},
   "outputs": [],
   "source": [
    "# Group the dataframe by columns except 'Sex'\n",
    "df_lga_q1 = df_lga_q1.groupby(['LGA Name', 'Month Year', 'Age']).sum().reset_index()\n"
   ]
  },
  {
   "cell_type": "markdown",
   "id": "ccf20a6d-1833-4c1c-8f3a-72a0c1d8f5e4",
   "metadata": {},
   "source": [
    "To have an overview of temporal trends by year, it was needed to sum up the number of different crimes by year. "
   ]
  },
  {
   "cell_type": "code",
   "execution_count": null,
   "id": "5d09e6a8-2c07-4e17-80c3-214399a53ed7",
   "metadata": {},
   "outputs": [],
   "source": [
    "# Create a column to show the number of all the crimes\n",
    "df_lga_q1['all'] = df_lga_q1.sum(axis=1, numeric_only=True)"
   ]
  },
  {
   "cell_type": "code",
   "execution_count": null,
   "id": "3e76c3f8-bf6b-43bf-9272-28ebdc3e85d5",
   "metadata": {},
   "outputs": [],
   "source": [
    "# Extract year from datetime column 'Month Year'\n",
    "df_lga_q1['year'] = df_lga_q1['Month Year'].dt.year"
   ]
  },
  {
   "cell_type": "code",
   "execution_count": null,
   "id": "4a5d5b01-aa04-42f4-b6de-496a095ada7b",
   "metadata": {},
   "outputs": [],
   "source": [
    "# Sum up the data by year and age(adult, youth)\n",
    "df_lga_q1_year = df_lga_q1.groupby(['year', 'Age']).sum().reset_index()"
   ]
  },
  {
   "cell_type": "markdown",
   "id": "fc75cc3a-cc6c-475f-9a7c-dd59f16c48eb",
   "metadata": {},
   "source": [
    "For analysing the overall temporal trends, the data need to group by and order by year. Furthermore, to understand to changing levels by years, we can add columns about increasing numbers and rates on the data each year\n",
    "- Ethics: To separate the offender group into youth and adult, and keep the total data to compare each to avoid only analyse the youth crime data to lose the overall crime trend."
   ]
  },
  {
   "cell_type": "code",
   "execution_count": null,
   "id": "65e8b94e-5372-4223-ac22-e682609a0c4a",
   "metadata": {},
   "outputs": [],
   "source": [
    "# New a dataframe group by year\n",
    "df_lga_q1_year_all = df_lga_q1_year.groupby('year').sum().reset_index()"
   ]
  },
  {
   "cell_type": "code",
   "execution_count": null,
   "id": "f0d89381-7d83-4fdc-a6b6-ec306fc4eab9",
   "metadata": {},
   "outputs": [],
   "source": [
    "# Add adult and juvenile data to the data by year\n",
    "df_lga_q1_year_all = add_adult_juvenile(df_lga_q1_year_all, df_lga_q1_year, ['year'])\n",
    "\n",
    "# Add the columns about increasing numbers and rates on the data each year\n",
    "df_lga_q1_year_all = add_analysis_cols(df_lga_q1_year_all)"
   ]
  },
  {
   "cell_type": "code",
   "execution_count": null,
   "id": "97654c22-cd21-4d0e-9479-17d261ffe87e",
   "metadata": {},
   "outputs": [],
   "source": [
    "# List the columns we focus on\n",
    "analysis_cols = ['Juvenile', 'Juvenile_%', 'Juvenile_increase', 'Juvenile_increase_%', \n",
    "                 'Adult', 'Adult_%', 'Adult_increase', 'Adult_increase_%',\n",
    "                 'all', 'all_increase', 'all_increase_%']"
   ]
  },
  {
   "cell_type": "code",
   "execution_count": null,
   "id": "6a11b6bb-2e31-4da6-a7f3-9b1a7f66e331",
   "metadata": {},
   "outputs": [],
   "source": [
    "# Show the data\n",
    "df_lga_q1_year_all = df_lga_q1_year_all[['year'] + analysis_cols]\n",
    "df_lga_q1_year_all"
   ]
  },
  {
   "cell_type": "markdown",
   "id": "2dd9fc7e-dd27-408b-98ef-a310d2156d83",
   "metadata": {},
   "source": [
    "From this table, we can find the crime number was not increased every year. However, we can show the statistics data by using `describe()` to show the overall picture.\n",
    "\n",
    "We need to remove the data in **2001** due to uncalculatable increasing data, and **2023** as well because that was not the data with a full year."
   ]
  },
  {
   "cell_type": "code",
   "execution_count": null,
   "id": "54af0347-3476-4a1a-8dc0-cc095a5f2e48",
   "metadata": {},
   "outputs": [],
   "source": [
    "# Filtering the data between 2002 and 2022, and showing the statistical data by using describe()\n",
    "df_lga_q1_year_all[(df_lga_q1_year_all['year']>2001) & (df_lga_q1_year_all['year']<2023)].describe()\n"
   ]
  },
  {
   "cell_type": "markdown",
   "id": "530a36f1-54a2-4d0d-ae05-17d7162838ca",
   "metadata": {},
   "source": [
    "Overall, from the mean of the increased number of youth, adult crimes, and the total number of offences, there is no significant increase but did growth due to it was positive. To find more information and the trend, we can focus on the recent 5 years (2023 not included).\n",
    "- Ethics: Analysing both the raw data and statistics data to avoid only analysing mean numbers to get wrong information."
   ]
  },
  {
   "cell_type": "code",
   "execution_count": null,
   "id": "d02f31ad-f35d-43e6-94cb-cb83471635e3",
   "metadata": {},
   "outputs": [],
   "source": [
    "# Filtering the data in the past five years (2018 - 2023)\n",
    "df_lga_q1_year_all_2018 = df_lga_q1_year_all[(df_lga_q1_year_all['year'] >= 2018) & (df_lga_q1_year_all['year'] < 2023)][['year'] + analysis_cols]\n",
    "df_lga_q1_year_all_2018"
   ]
  },
  {
   "cell_type": "code",
   "execution_count": null,
   "id": "9be54d54-f7f4-42ea-b433-2907ae08d094",
   "metadata": {},
   "outputs": [],
   "source": [
    "# Show the statistics data by using describe()\n",
    "df_lga_q1_year_all_2018.describe()"
   ]
  },
  {
   "cell_type": "markdown",
   "id": "5ba06410-36e2-4d1c-8438-4084f507637a",
   "metadata": {},
   "source": [
    "From the two tables above, it can be noticed youth crime cases increased significantly **11%** in **2022**, which is much more than the growth in adult crime in **2022 (3.7%)**. \n",
    "\n",
    "However, in the past 5 years, the most significant growth in overall crime and youth crime both happened **2022**, which were **41280(+5.1%)** and **16614(+11.6%)**, respectively. \n",
    "\n",
    "Furthermore, in the past 5 years, the average of all offence increasing number is **-6165**, but the number of youth crimes was **+3220**, it can be considered youth crime was growing in Queensland but not all crimes. \n",
    "\n",
    "- Ethic: Analysing both average data and the data by each year to avoid misunderstanding by only looking into the average number. "
   ]
  },
  {
   "cell_type": "markdown",
   "id": "418fa7ac-9917-4212-9d46-ba358ce92dc1",
   "metadata": {
    "jp-MarkdownHeadingCollapsed": true,
    "tags": []
   },
   "source": [
    "##### Visualisation"
   ]
  },
  {
   "cell_type": "markdown",
   "id": "89a4a24f-1f20-4f51-b422-e2545c453b19",
   "metadata": {},
   "source": [
    "To show the temporal trend, a suitable diagram can be a line chart. Firstly, look into the data by year to perform an overview of the offences data including the total crime increasing percentage, adult crime increasing percentage, and youth crime increasing percentage in each **between 2002 and 2022**.\n",
    "\n",
    "- Ethics: Compare the increasing rates instead of the case number and show each group and total increasing rate on the chart to indicate the differences. Because each group has a different population can cause the scale of the number of increasing differently which was unfair for comparing.\n"
   ]
  },
  {
   "cell_type": "code",
   "execution_count": null,
   "id": "f35a06f2-0970-46c7-8593-08463815718c",
   "metadata": {},
   "outputs": [],
   "source": [
    "# Filter the data we need\n",
    "df_linechart = df_lga_q1_year_all[(df_lga_q1_year_all['year']>2001) & (df_lga_q1_year_all['year']<2023)]"
   ]
  },
  {
   "cell_type": "code",
   "execution_count": null,
   "id": "84907b4f-1f35-477d-a4f3-790ff0ac639a",
   "metadata": {},
   "outputs": [],
   "source": [
    "# Build the line chart\n",
    "fig_linechart = go.Figure()\n",
    "\n",
    "# Add lines for Juvenile, Adult, and all\n",
    "fig_linechart.add_trace(go.Scatter(x=df_linechart['year'], y=df_linechart['Juvenile_increase_%'], mode='lines', name='Juvenile'))\n",
    "fig_linechart.add_trace(go.Scatter(x=df_linechart['year'], y=df_linechart['Adult_increase_%'], mode='lines', name='Adult'))\n",
    "fig_linechart.add_trace(go.Scatter(x=df_linechart['year'], y=df_linechart['all_increase_%'], mode='lines', name='All'))\n",
    "\n",
    "# Set the layout of the figure\n",
    "fig_linechart.update_layout(title='Offences Trend by Year',\n",
    "                            xaxis=dict(title='Year', type='category'),\n",
    "                            yaxis=dict(title='Offences (%)'),\n",
    "                            legend_title='Offender Groups')\n",
    "\n",
    "# Show the plot\n",
    "fig_linechart.show()"
   ]
  },
  {
   "cell_type": "markdown",
   "id": "a1f93f58-1549-492a-9617-af1a9a8b0f4c",
   "metadata": {},
   "source": [
    "From the above line chart, youth crime in Queensland has been growing continuously for three consecutive years since **2020** and the increasing rate is higher than adult crime, and there has been a significant increase in juvenile crime in **2022**."
   ]
  },
  {
   "cell_type": "markdown",
   "id": "30238ee8-8edd-4ac2-af8a-81fd9655c373",
   "metadata": {
    "jp-MarkdownHeadingCollapsed": true,
    "tags": []
   },
   "source": [
    "##### insight"
   ]
  },
  {
   "cell_type": "markdown",
   "id": "98ae1f55-47f4-4d65-aea9-a5837ae225d5",
   "metadata": {},
   "source": [
    "After analysing temporal trends and patterns in youth crime across various local areas and compare to adult crime, we can conclude several key insights. Firstly, although youth crime has slightly increased over time, it has not risen significantly more than adult crimes in the past 20 years. However, focusing on recent years, specifically in **2022**, shows a noticeable increase in **youth crime (11% rise)** compared to **adult crime (3.7% rise)**. This indicates that youth crime is becoming a more pressing issue in Queensland."
   ]
  },
  {
   "cell_type": "markdown",
   "id": "124d50d4-45af-4f67-b992-f509edc044d2",
   "metadata": {
    "tags": []
   },
   "source": [
    "### Question 1.2\n",
    "What are the temporal trends in youth crime compared to the other crime since 2022?\n",
    "- After analysing the overall trend in the past decades, we can look into each month from **2022** to compare the youth crime cases between **2022** and **2023** to identify are the youth crime number still increasing.\n"
   ]
  },
  {
   "cell_type": "markdown",
   "id": "3e44d757-3cfc-43a7-aa20-486fa1dcbaf8",
   "metadata": {
    "jp-MarkdownHeadingCollapsed": true,
    "tags": []
   },
   "source": [
    "##### Data "
   ]
  },
  {
   "cell_type": "markdown",
   "id": "b4118e08-e4e9-4ec2-ab63-066e7a9b26a3",
   "metadata": {},
   "source": [
    "There is one data might be used in answering this question:\n",
    "1. The major data `df_lga` for analysing crime data, in here we can continuously keep using the `df_lga_q1`."
   ]
  },
  {
   "cell_type": "markdown",
   "id": "2243db35-52ba-4f92-8d93-a6062935c7e8",
   "metadata": {
    "jp-MarkdownHeadingCollapsed": true,
    "tags": []
   },
   "source": [
    "##### Analysis"
   ]
  },
  {
   "cell_type": "markdown",
   "id": "6eafd400-32b0-47d6-b767-452f41f3c27e",
   "metadata": {},
   "source": [
    "We will focus on the recent monthly data between youth crime and adult crime. Therefore, we can group the data by month and filter the data between **2022** and **2023**. Then we can have an overview of temporal trends by month of the number of crime cases including adults and juveniles. "
   ]
  },
  {
   "cell_type": "code",
   "execution_count": null,
   "id": "8fb721c4-7608-4aaf-a1cd-cac59ad5f0fc",
   "metadata": {},
   "outputs": [],
   "source": [
    "# observe the data\n",
    "df_lga_q1.head(10)"
   ]
  },
  {
   "cell_type": "code",
   "execution_count": null,
   "id": "19746a40-0bce-4ba8-bc20-a03119a8ff13",
   "metadata": {},
   "outputs": [],
   "source": [
    "# Group up the data by month\n",
    "df_lga_q1_month = df_lga_q1.groupby(['Month Year', 'Age']).sum().reset_index()\n",
    "df_lga_q1_month_all = df_lga_q1.groupby(['Month Year']).sum().reset_index()\n"
   ]
  },
  {
   "cell_type": "code",
   "execution_count": null,
   "id": "77038740-3859-409b-a419-5aaf73c3cad4",
   "metadata": {},
   "outputs": [],
   "source": [
    "# Add adult and juvenile data to the data by month\n",
    "df_lga_q1_month_all = add_adult_juvenile(df_lga_q1_month_all, df_lga_q1_month, ['Month Year'])\n",
    "\n",
    "# Add the columns about increasing numbers and rates on the data each month\n",
    "df_lga_q1_month_all = add_analysis_cols(df_lga_q1_month_all)"
   ]
  },
  {
   "cell_type": "code",
   "execution_count": null,
   "id": "34d928d8-7cb3-4c68-aa78-c941a530f3cd",
   "metadata": {},
   "outputs": [],
   "source": [
    "# Filtering the data between Jan 2022 to Mar 2023, not consider Apr 2023 due to data may incomplete\n",
    "df_lga_q1_month_all_2022 = df_lga_q1_month_all[(df_lga_q1_month_all['Month Year'] >= '2022-01-01')\n",
    "                                               & (df_lga_q1_month_all['Month Year'] < '2023-04-01')][['Month Year'] + analysis_cols]\n",
    "\n",
    "df_lga_q1_month_all_2022"
   ]
  },
  {
   "cell_type": "code",
   "execution_count": null,
   "id": "10cf3ecf-5695-47ac-a377-80b73a1fa30d",
   "metadata": {},
   "outputs": [],
   "source": [
    "# Show the statistics data by using describe()\n",
    "df_lga_q1_month_all_2022.describe()"
   ]
  },
  {
   "cell_type": "markdown",
   "id": "e1d0a653-730d-4e6c-aec9-7ed1ea9aebef",
   "metadata": {},
   "source": [
    "From **2022**, despite **Mar 2023** was not with the highest number of youth crime cases, it has the highest increasing percentage **25%** and increasing number **2930**. Compare to the audlt crime in **Mar 2023**, the growing percentage was only **5%** which was much less than in youth crime.\n",
    "\n",
    "- Ethics: Compare each specific month and group to avoid using average numbers. Because the average number can be affected by some significant numbers can cause misunderstanding."
   ]
  },
  {
   "cell_type": "markdown",
   "id": "6ed0f3de-3d29-45c9-822f-d09d23fadd87",
   "metadata": {
    "jp-MarkdownHeadingCollapsed": true,
    "tags": []
   },
   "source": [
    "##### Visualisation"
   ]
  },
  {
   "cell_type": "markdown",
   "id": "00137f77-9a44-4b46-bf69-14fcfdf9008c",
   "metadata": {},
   "source": [
    "To show the temporal trend, a suitable diagram can be a line chart. We can show the data by month to perform an overview of the offences data including the total crime increasing percentage, adult crime increasing percentage, and youth crime increasing percentage in each **between Jan 2022 and Mar 2023**.\n",
    "\n",
    "- Ethics: Compare the increasing rates instead of the case number and show each group and total increasing rate on the chart to indicate the differences. Because each group has a different population can cause the scale of the number of increasing differently which was unfair for comparing.\n"
   ]
  },
  {
   "cell_type": "code",
   "execution_count": null,
   "id": "79dde994-967f-4746-8945-59c37917ae92",
   "metadata": {},
   "outputs": [],
   "source": [
    "# Filter the data we need\n",
    "df_linechart_2 = df_lga_q1_month_all[(df_lga_q1_month_all['Month Year'] >= '2022-01-01')\n",
    "                                     & (df_lga_q1_month_all['Month Year'] < '2023-04-01')][['Month Year'] + analysis_cols]"
   ]
  },
  {
   "cell_type": "code",
   "execution_count": null,
   "id": "d4fa6f91-4c48-4dce-b1cb-18fbbf2bb867",
   "metadata": {},
   "outputs": [],
   "source": [
    "# Convert the datetime format to mm-yyyy\n",
    "df_linechart_2['month'] = df_linechart_2['Month Year'].dt.strftime('%m-%Y')"
   ]
  },
  {
   "cell_type": "code",
   "execution_count": null,
   "id": "5c7894d7-2fe1-4421-923b-f8039166f5c1",
   "metadata": {},
   "outputs": [],
   "source": [
    "# Build the line chart\n",
    "fig_linechart_2 = go.Figure()\n",
    "\n",
    "# Add lines for Juvenile, Adult, and all\n",
    "fig_linechart_2.add_trace(go.Scatter(x=df_linechart_2['month'], y=df_linechart_2['Juvenile_increase_%'], mode='lines', name='Juvenile'))\n",
    "fig_linechart_2.add_trace(go.Scatter(x=df_linechart_2['month'], y=df_linechart_2['Adult_increase_%'], mode='lines', name='Adult'))\n",
    "fig_linechart_2.add_trace(go.Scatter(x=df_linechart_2['month'], y=df_linechart_2['all_increase_%'], mode='lines', name='All'))\n",
    "\n",
    "# Set the layout of the figure\n",
    "fig_linechart_2.update_layout(title='Offences Trend by Month',\n",
    "                              xaxis=dict(title='Month', type='category'),\n",
    "                              yaxis=dict(title='Offences (%)'),\n",
    "                              legend_title='Offender Groups')\n",
    "\n",
    "# Show the plot\n",
    "fig_linechart_2.show()\n",
    "                    \n"
   ]
  },
  {
   "cell_type": "markdown",
   "id": "073b5812-04f3-4827-95d1-ef35d1c7b906",
   "metadata": {},
   "source": [
    "After looking into monthly data in the recent month (2022 and Jan, Feb, and Mar 2023), there are two specific months that had significant growth in youth crime which are **Nov 2022** and **Mar 2023**. Both months had a higher growth rate in youth crime than adult crime, which means the trend of youth crime did not exactly follow the overall crime. If we look into the numbers in `df_lga_q1_month_all_2022`, it can be found that the highest youth crime number was in **Nov 2022** which was **16409** cases. However, **Mar 2023** was the month with the highest increasing rate of youth crime despite it had not the highest number of youth crime cases.\n"
   ]
  },
  {
   "cell_type": "markdown",
   "id": "0a539992-2da3-4ded-8437-99ed6660b3e7",
   "metadata": {
    "jp-MarkdownHeadingCollapsed": true,
    "tags": []
   },
   "source": [
    "##### Insight"
   ]
  },
  {
   "cell_type": "markdown",
   "id": "322ca3c4-30c1-472d-8f01-0d5fa7a2c756",
   "metadata": {},
   "source": [
    "After analysing monthly data from 2022, there was no significant sign that shows which group grow much more, but the data and the line chart did not show any sign that the youth crime or overall offences are mitigating, and it seems the youth group with a bigger variation of the monthly data than in the adult group. Moreover, youth crime increased most in the most recent month **Mar 2023** in the data we collected, and the growth rate was **25%** which was much more the in adult crime which was **5%**.\n"
   ]
  },
  {
   "cell_type": "markdown",
   "id": "56221ad1-b6cd-4487-a8f7-92cca84d64ca",
   "metadata": {
    "tags": []
   },
   "source": [
    "### Question 1.3\n",
    "What are the recent trends in youth crime across different local areas in Queensland?\n",
    "- For getting more information on the relationship between youth crime and local areas recently, we can compare the cases of youth crime in each local area. To understand to overall picture recently by the local area, we can pick **Jan 2023**, **Feb 2023**, and **Mar 2023** to analyse."
   ]
  },
  {
   "cell_type": "markdown",
   "id": "db90d9e7-9401-41d3-aa0c-eea7c2d14be0",
   "metadata": {
    "jp-MarkdownHeadingCollapsed": true,
    "tags": []
   },
   "source": [
    "##### Data "
   ]
  },
  {
   "cell_type": "markdown",
   "id": "00519e9a-50b9-41db-aba4-cd752ef2b3f3",
   "metadata": {},
   "source": [
    "There are two data might be used in answering this question:\n",
    "1. The major data `df_lga` for analysing crime data, in here we can continuously keep using the `df_lga_q1`.\n",
    "2. The GeoJSON data `df_geo` fro visualisation "
   ]
  },
  {
   "cell_type": "markdown",
   "id": "9bb3467c-25e7-48c3-a350-6eefbeb9a423",
   "metadata": {
    "jp-MarkdownHeadingCollapsed": true,
    "tags": []
   },
   "source": [
    "##### Analysis"
   ]
  },
  {
   "cell_type": "markdown",
   "id": "3df17a5c-cdf7-4645-b7b6-b531b2d63ad5",
   "metadata": {},
   "source": [
    "To focus on the recent three months **Jan 2023**, **Feb 2023**, and **Mar 2023**, we need to pick the data of these three months from the major data. Then group the data by month and local areas to observe the data and compare each group in local areas."
   ]
  },
  {
   "cell_type": "code",
   "execution_count": null,
   "id": "933078a0-f9e9-4953-8d3d-092e91443c8c",
   "metadata": {},
   "outputs": [],
   "source": [
    "# Need to include Dec 2022 to calculate the increasing number of Jan 2023 \n",
    "df_lga_q1_2023 = df_lga_q1[(df_lga_q1['Month Year']>='2022-12-01') & (df_lga_q1['Month Year']<'2023-04-01')][['LGA Name', 'Month Year', 'Age', 'all']]"
   ]
  },
  {
   "cell_type": "code",
   "execution_count": null,
   "id": "9185fae4-2127-4acd-b833-bfb5300165e6",
   "metadata": {},
   "outputs": [],
   "source": [
    "#Group by local area and month\n",
    "df_lga_q1_lga = df_lga_q1_2023.groupby(['LGA Name', 'Month Year']).sum().reset_index()\n"
   ]
  },
  {
   "cell_type": "code",
   "execution_count": null,
   "id": "e32bf9a5-e0bf-461c-945e-d105ec8dd5ef",
   "metadata": {},
   "outputs": [],
   "source": [
    "# Add adult and juvenile data to the data by local area and month\n",
    "df_lga_q1_lga = add_adult_juvenile(df_lga_q1_lga, df_lga_q1_2023, ['LGA Name', 'Month Year'])\n",
    "\n",
    "# Add the columns about increasing numbers and rates on the data\n",
    "df_lga_q1_lga = add_analysis_cols(df_lga_q1_lga)\n"
   ]
  },
  {
   "cell_type": "code",
   "execution_count": null,
   "id": "fb4af183-ee50-4a76-8a03-f45f24fc1a84",
   "metadata": {},
   "outputs": [],
   "source": [
    "# Remove Dec 2022 to focus on 2023\n",
    "df_lga_q1_lga = df_lga_q1_lga[df_lga_q1_lga['Month Year'] >= '2023-01-01'].reset_index(drop=True)"
   ]
  },
  {
   "cell_type": "code",
   "execution_count": null,
   "id": "7db2205c-e9b9-4a6d-a380-0ea9a7c75f33",
   "metadata": {},
   "outputs": [],
   "source": [
    "# Show the data\n",
    "df_lga_q1_lga.head(10)"
   ]
  },
  {
   "cell_type": "markdown",
   "id": "94cfb0c4-afc3-4c3f-b16c-ee5d2a162c93",
   "metadata": {},
   "source": [
    "To understand the rank of each local area, we can calculate the average number of the three months by each local area and sort it, then pick the top 5 local areas by different numbers to show the detail and compare them to identify which area has a more serious crime issue\n",
    "\n",
    "- Ethics: Separate the data by different areas and groups to avoid information loss after calculating the average, and We can understand the overall seasonal trend by mean."
   ]
  },
  {
   "cell_type": "markdown",
   "id": "f634b770-6979-4169-9836-36554147147e",
   "metadata": {},
   "source": [
    "Firstly, we focus on the overall crime"
   ]
  },
  {
   "cell_type": "code",
   "execution_count": null,
   "id": "3fba28af-8ec8-4787-ab88-b0dafbf7a1dd",
   "metadata": {},
   "outputs": [],
   "source": [
    "# Group by local area\n",
    "df_lga_q1_lga_group = df_lga_q1_lga.groupby('LGA Name').mean()"
   ]
  },
  {
   "cell_type": "code",
   "execution_count": null,
   "id": "381a8fe7-774b-42a8-bf55-e4e61a690cc6",
   "metadata": {},
   "outputs": [],
   "source": [
    "# Sort by overall crime number\n",
    "df_lga_q1_lga_group.sort_values('all', ascending=False).head(5)[['all', 'all_increase', 'all_increase_%']]"
   ]
  },
  {
   "cell_type": "code",
   "execution_count": null,
   "id": "65422115-5c0a-4042-8e9b-4c8661ed76a0",
   "metadata": {},
   "outputs": [],
   "source": [
    "# Sort by increasing number\n",
    "df_lga_q1_lga_group.sort_values('all_increase', ascending=False).head(5)[['all', 'all_increase', 'all_increase_%']]\n"
   ]
  },
  {
   "cell_type": "markdown",
   "id": "3d3a8164-44bc-440c-a136-64e1da36f795",
   "metadata": {},
   "source": [
    "From the two tables above, despite **Brisbane** and **Gold Coast** having the highest number of offences in the first three months of 2023, both numbers in these two areas were decreasing which are **-243** and **-112**, respectively. If we look into the average increasing number, it can be noticed that **Logan** has the largest increasing number of overall crimes. Also, it can be noticed that **Rockhampton** and **Mackay** did not on the list of top 5 crime numbers but were on the top 5 increasing crime list. It can be considered the offences cases grow significantly in these two areas."
   ]
  },
  {
   "cell_type": "markdown",
   "id": "53a220ec-ae42-46d9-b393-c216de466f93",
   "metadata": {},
   "source": [
    "Secondly, we focus on the youth crime"
   ]
  },
  {
   "cell_type": "code",
   "execution_count": null,
   "id": "66c3f2c5-25e8-44bb-8400-cb07eab9320b",
   "metadata": {},
   "outputs": [],
   "source": [
    "# Sort by Juvenile crime number\n",
    "df_lga_q1_lga_group.sort_values('Juvenile', ascending=False).head(5)[['Juvenile', 'Juvenile_increase', 'Juvenile_increase_%']]"
   ]
  },
  {
   "cell_type": "code",
   "execution_count": null,
   "id": "80411690-e782-4ceb-8344-c651ebdc3faf",
   "metadata": {},
   "outputs": [],
   "source": [
    "# Sort by Juvenile crime increasing number\n",
    "df_lga_q1_lga_group.sort_values('Juvenile_increase', ascending=False).head(5)[['Juvenile', 'Juvenile_increase', 'Juvenile_increase_%']]"
   ]
  },
  {
   "cell_type": "markdown",
   "id": "aef1529e-d98c-4777-9d95-679a9bb9a7d4",
   "metadata": {},
   "source": [
    "Looking into youth crime, **Brisbane** also has the highest number of youth crime cases, but the number was decreasing in the past few months. \n",
    "\n",
    "For the increasing number, **Cairns** seems to have a significant growth in youth crime because it had the highest number of increasing numbers, and it was the second ranking area of the top 5 youth crime number list.\n",
    "\n",
    "Furthermore, the number of youth crime cases in **Mornington** and **Palm Island** seems to be almost doubled since 2023, the mean of the percentage of increasing numbers were **82%** and **104%**, respectively.\n",
    "\n",
    "- Ethics: Compare the ranks by sorting the case number and the increasing number, can avoid some areas with a significantly high increasing percentage due to a population too small to affect the ranking."
   ]
  },
  {
   "cell_type": "markdown",
   "id": "22db8dee-202b-4969-a84a-33d9aa735249",
   "metadata": {
    "jp-MarkdownHeadingCollapsed": true,
    "tags": []
   },
   "source": [
    "##### Visualisation"
   ]
  },
  {
   "cell_type": "markdown",
   "id": "0d8394d7-306d-40ab-a8e8-b530a95a4a88",
   "metadata": {},
   "source": [
    "To understand the crime number in each local area, the better way to visualise the data is to show the data on a map and present the number in different colors to highlight the difference. Firstly, we can show the overall situation of all the offences in each local area on the map by using `choropleth_mapbox`. To focus on the situation recently, we use the data `df_lga_q1_lga_group` which includes the data from **Jan 2023 to Mar 2023**.\n",
    "\n",
    "- Ethics: To show four different ranks by local areas to have a comprehensive understanding of the trend of each local area and the geographic distribution to make sure the data in each area can be seen."
   ]
  },
  {
   "cell_type": "code",
   "execution_count": null,
   "id": "62e39836-e62b-4ebb-9734-902c487829fb",
   "metadata": {},
   "outputs": [],
   "source": [
    "# Mergo the GeoJSON data into dataframe with crime data\n",
    "df_map_q1 = df_geo.merge(df_lga_q1_lga_group, left_on='LGA Name', right_on='LGA Name', how='left')"
   ]
  },
  {
   "cell_type": "code",
   "execution_count": null,
   "id": "6a4131c9-cf75-49af-a97b-267c49972bc6",
   "metadata": {},
   "outputs": [],
   "source": [
    "# Set the center of the map\n",
    "latitude = -20\n",
    "longitude = 145"
   ]
  },
  {
   "cell_type": "code",
   "execution_count": null,
   "id": "433d23ec-5868-4de6-b497-054ec94cba63",
   "metadata": {
    "tags": []
   },
   "outputs": [],
   "source": [
    "# Create a choropleth map\n",
    "fig_map_all = px.choropleth_mapbox(df_map_q1, \n",
    "                                   geojson=geojson_data, \n",
    "                                   locations='id_',\n",
    "                                   hover_name = \"LGA Name\",\n",
    "                                   hover_data=['all', 'all_increase', 'Adult', 'Juvenile'],\n",
    "                                   color = 'all',\n",
    "                                   mapbox_style=\"open-street-map\",\n",
    "                                   color_continuous_scale='ylorrd',\n",
    "                                   opacity = 0.5)\n",
    "\n",
    "fig_map_all.update_layout(\n",
    "    title ='Map 1. Number of Offences in Local Areas',\n",
    "    mapbox_center_lat = latitude, \n",
    "    mapbox_center_lon = longitude, \n",
    "    mapbox_zoom = 3.3,\n",
    "    margin={\"r\":0,\"t\":50,\"l\":0,\"b\":0},\n",
    "    coloraxis_colorbar=dict(\n",
    "        title='All Offences Number'  # Set the label for the color legend\n",
    "    )\n",
    ")\n",
    "\n",
    "# Display the map\n",
    "fig_map_all.show()"
   ]
  },
  {
   "cell_type": "markdown",
   "id": "c3ab77c7-f1c7-4b75-8457-58ee758f8103",
   "metadata": {},
   "source": [
    "From the above map, it can be observed that there are only a few specific local areas, such as **Cairns**, **Townsville**, and **the area around Brisbane** including **Brisbane**, which had significantly higher crime numbers than other areas. However, generally, densely populated areas should have a higher number of crime cases. To find more information about the crime trend in each area, we can show the increased difference by each local area on the map."
   ]
  },
  {
   "cell_type": "markdown",
   "id": "faba3e11-683e-49a7-b166-53c0a408625d",
   "metadata": {},
   "source": [
    "To focus on the increasing number of crimes, set the decreasing number to 0"
   ]
  },
  {
   "cell_type": "code",
   "execution_count": null,
   "id": "a1c1bd4b-b8ea-42db-a958-4f9aa73a2658",
   "metadata": {},
   "outputs": [],
   "source": [
    "# Set the decreasing number to 0\n",
    "df_map_q1['all_increase_'] = df_map_q1['all_increase'].apply(lambda x: x if x > 0 else 0)"
   ]
  },
  {
   "cell_type": "code",
   "execution_count": null,
   "id": "d540525f-1b6c-456f-892b-a9efb187b6d2",
   "metadata": {
    "tags": []
   },
   "outputs": [],
   "source": [
    "# Create a choropleth map\n",
    "fig_map_all = px.choropleth_mapbox(df_map_q1, \n",
    "                                   geojson=geojson_data, \n",
    "                                   locations='id_',\n",
    "                                   hover_name = \"LGA Name\",\n",
    "                                   hover_data=['all', 'all_increase', 'Adult', 'Juvenile'],\n",
    "                                   color = 'all_increase_',\n",
    "                                   mapbox_style=\"open-street-map\",\n",
    "                                   color_continuous_scale='ylorrd',\n",
    "                                   opacity = 0.5)\n",
    "\n",
    "fig_map_all.update_layout(\n",
    "    title ='Map 2. Increasing Number of Offences in Local Areas',\n",
    "    mapbox_center_lat = latitude, \n",
    "    mapbox_center_lon = longitude, \n",
    "    mapbox_zoom = 3.3,\n",
    "    margin={\"r\":0,\"t\":50,\"l\":0,\"b\":0},\n",
    "    coloraxis_colorbar=dict(\n",
    "        title='Increasing Number'  # Set the label for the color legend\n",
    "    )\n",
    ")\n",
    "\n",
    "# Display the map\n",
    "fig_map_all.show()"
   ]
  },
  {
   "cell_type": "markdown",
   "id": "037455d7-6a10-41de-89de-7d775ca98fda",
   "metadata": {},
   "source": [
    "The map above shows the different information from the last map, it presents the increasing level in each local area which can show the crime trend of each area. Firstly, **Brisbane** did not have the highest number, instead **Logan**. Secondly, there are several local areas that have notable growth in offences number but not significant crime numbers shown in `map 1` such as **Mackay**, **Rockhampton**, **Bundaberg**, and **Fraser Coast**."
   ]
  },
  {
   "cell_type": "markdown",
   "id": "a639f792-7010-433f-bdf7-95332d80a62e",
   "metadata": {},
   "source": [
    "To understand more about youth crime, we need to show only the youth crime number of each local area on the map. "
   ]
  },
  {
   "cell_type": "code",
   "execution_count": null,
   "id": "1802b2cb-3dd5-4ec4-8044-589b7fd3a43d",
   "metadata": {},
   "outputs": [],
   "source": [
    "# Create a choropleth map\n",
    "fig_map_youth = px.choropleth_mapbox(df_map_q1,\n",
    "                                     geojson=geojson_data, \n",
    "                                     locations='id_',\n",
    "                                     hover_name = \"LGA Name\", \n",
    "                                     hover_data=['all', 'Adult', 'Juvenile', 'Juvenile_increase'],\n",
    "                                     color = 'Juvenile',\n",
    "                                     mapbox_style=\"open-street-map\",\n",
    "                                     color_continuous_scale='ylorrd',\n",
    "                                     opacity = 0.5)\n",
    "\n",
    "fig_map_youth.update_layout(\n",
    "    title ='Map 3. Number of Youth Crime in Local Areas',\n",
    "    mapbox_center_lat = latitude, \n",
    "    mapbox_center_lon = longitude, \n",
    "    mapbox_zoom = 3.3,\n",
    "    margin={\"r\":0,\"t\":50,\"l\":0,\"b\":0},\n",
    "    coloraxis_colorbar=dict(\n",
    "        title='Youth Crime Number'  # Set the label for the color legend\n",
    "    )\n",
    ")\n",
    "\n",
    "# Display the map\n",
    "fig_map_youth.show()"
   ]
  },
  {
   "cell_type": "markdown",
   "id": "85f31765-271d-40bc-aec2-23652faed530",
   "metadata": {},
   "source": [
    "This map shows similar information to `map 1`, the local area, such as **Brisbane**, **Cairns**, and **Townsville** had seriously higher youth crime numbers than other areas. However, we need to find more details about the youth crime trend in local areas. Therefore, we can show the increasing number of youth crimes instead of just the offences number."
   ]
  },
  {
   "cell_type": "markdown",
   "id": "327bff44-74af-47a6-9831-72e755629f78",
   "metadata": {},
   "source": [
    "To focus on the increasing number of youth crimes, set the decreasing number to 0"
   ]
  },
  {
   "cell_type": "code",
   "execution_count": null,
   "id": "11b7c6a8-094c-4871-8c14-92317e430d68",
   "metadata": {},
   "outputs": [],
   "source": [
    "df_map_q1['Juvenile_increase_'] = df_map_q1['Juvenile_increase'].apply(lambda x: x if x > 0 else 0)"
   ]
  },
  {
   "cell_type": "code",
   "execution_count": null,
   "id": "87bdd744-e154-4d8b-8d40-a9cb447be15c",
   "metadata": {},
   "outputs": [],
   "source": [
    "# Create a choropleth map\n",
    "fig_map_youth = px.choropleth_mapbox(df_map_q1,\n",
    "                                     geojson=geojson_data, \n",
    "                                     locations='id_',\n",
    "                                     hover_name = \"LGA Name\",\n",
    "                                     hover_data=['all', 'Adult', 'Juvenile', 'Juvenile_increase'],\n",
    "                                     color = 'Juvenile_increase_',\n",
    "                                     mapbox_style=\"open-street-map\",\n",
    "                                     color_continuous_scale='ylorrd',\n",
    "                                     opacity = 0.5)\n",
    "\n",
    "fig_map_youth.update_layout(\n",
    "    title ='Map 4. Increasing Number of Youth Crime in Local Areas',\n",
    "    mapbox_center_lat = latitude, \n",
    "    mapbox_center_lon = longitude, \n",
    "    mapbox_zoom = 3.3,\n",
    "    margin={\"r\":0,\"t\":50,\"l\":0,\"b\":0},\n",
    "    coloraxis_colorbar=dict(\n",
    "        title='Increasing Number'  # Set the label for the color legend\n",
    "    )\n",
    ")\n",
    "\n",
    "# Display the map\n",
    "fig_map_youth.show()"
   ]
  },
  {
   "cell_type": "markdown",
   "id": "3175e0a6-f9dc-4393-98bb-9c1599b443d7",
   "metadata": {},
   "source": [
    "From the map, we can find **Cairns** has the most serious youth crime increasing trend. Also the area around **Cairns** such as **Douglas**, **Mareeba**, and **Tablelands** have a notable increasing trend to some degree. For **Mackay**, it has been noticed that both the increasing number in overall crime and youth crime have a notable number from other areas. Moreover, **Sunshine Coast** and **Toowoomba** can be noticed because it seems to have a medium degree of youth crime increasing trend but not an overall crime trend."
   ]
  },
  {
   "cell_type": "markdown",
   "id": "e7bd09b4-5f24-4d70-8ed4-a8c9e2140cbb",
   "metadata": {
    "jp-MarkdownHeadingCollapsed": true,
    "tags": []
   },
   "source": [
    "##### Insight"
   ]
  },
  {
   "cell_type": "markdown",
   "id": "c2b1a02a-0669-45ca-80b4-e79c7b8c3e14",
   "metadata": {},
   "source": [
    "From the analysis of youth crime across various local areas, there are some areas that are noticeable. **Cairns** is one of the areas where youth crime has significantly increased, and this trend is also observed in nearby areas such as **Douglas**, **Mareeba**, and **Tablelands** but the increased numbers were not as high as in **Cairns**. Additionally, other local areas like **Mackay**, **Sunshine Coast**, and **Toowoomba** have also experienced a medium degree of youth crime increasing trend."
   ]
  },
  {
   "cell_type": "markdown",
   "id": "0dfcc096-d90c-490a-8561-a1aed7f395b8",
   "metadata": {
    "jp-MarkdownHeadingCollapsed": true,
    "tags": []
   },
   "source": [
    "##### Memory release"
   ]
  },
  {
   "cell_type": "code",
   "execution_count": null,
   "id": "1d38f7d7-d375-476b-ba4e-fa20accde5fc",
   "metadata": {},
   "outputs": [],
   "source": [
    "# delete the dataframe onyl for q1 to release memory\n",
    "del df_lga_q1\n",
    "del df_lga_q1_2023\n",
    "del df_lga_q1_lga\n",
    "del df_lga_q1_lga_group\n",
    "del df_lga_q1_month\n",
    "del df_lga_q1_month_all\n",
    "del df_lga_q1_month_all_2022\n",
    "del df_lga_q1_year\n",
    "del df_lga_q1_year_all\n",
    "del df_lga_q1_year_all_2018\n",
    "del df_map_q1"
   ]
  },
  {
   "cell_type": "markdown",
   "id": "a361e2ac-623c-489a-bd93-a4f5d2a82650",
   "metadata": {
    "tags": []
   },
   "source": [
    "## Question 2\n",
    "Are there any specific types of offences that are more common among youth offenders compared to adult offenders, and any differences between local areas?\n",
    "\n",
    "- This question focuses on analysing the differences between the common types of offences in youth crime and adult crime. Understanding the specific type of offences among youth crime in different local areas can help in planning intervention programs which can against and addressing the specific types of crimes by areas."
   ]
  },
  {
   "cell_type": "markdown",
   "id": "6fa4bebb-f234-45bf-833d-a562fd7a5938",
   "metadata": {
    "tags": []
   },
   "source": [
    "### Question 2.1\n",
    "What are the differences between youth crime and adult crime for the common offence types?\n",
    "\n",
    "- To understand if is there any specific offence type common among youth offenders but not in adult crime."
   ]
  },
  {
   "cell_type": "markdown",
   "id": "b390a344-1569-4381-92b1-28b9840c14d1",
   "metadata": {
    "jp-MarkdownHeadingCollapsed": true,
    "tags": []
   },
   "source": [
    "##### Data "
   ]
  },
  {
   "cell_type": "markdown",
   "id": "7527c18b-4a9d-40e2-9313-2be4de45ee86",
   "metadata": {},
   "source": [
    "There is one data might be used in answering this question:\n",
    "1. The major data `df_lga` for analysing crime data"
   ]
  },
  {
   "cell_type": "code",
   "execution_count": null,
   "id": "87a3621b-ae7f-40ac-a80f-4d33cf3ae56e",
   "metadata": {},
   "outputs": [],
   "source": [
    "# Major data\n",
    "df_lga_q2 = df_lga.copy()"
   ]
  },
  {
   "cell_type": "markdown",
   "id": "ffb152dd-a89b-4d3f-829e-595109c5439d",
   "metadata": {
    "tags": []
   },
   "source": [
    "##### Analysis"
   ]
  },
  {
   "cell_type": "markdown",
   "id": "f09227ee-aaae-4529-9fa8-a2f7e768d7ad",
   "metadata": {},
   "source": [
    "To understand the common offences type among youth offenders and adult offenders, we can start from split the data into two groups. Also, we can focus on the recent data due to this is an current issue. \n",
    "\n",
    "Firstly, we can filter the recent data, which can be the data after 2022 because according the result from question 1, 2022 had the largest growth in youth crime and overall crime in the past 5 years. \n",
    "\n",
    "- Ethics: Based on the previous result choose the most valuable data for analysis"
   ]
  },
  {
   "cell_type": "code",
   "execution_count": null,
   "id": "89ba8e00-11ae-45f6-8187-e287c28abb77",
   "metadata": {},
   "outputs": [],
   "source": [
    "# Filter the data\n",
    "df_lga_q2 = df_lga_q2[df_lga_q2['Month Year'] >= '2022-01-01']"
   ]
  },
  {
   "cell_type": "markdown",
   "id": "1e3d38da-29b3-432e-b5ca-c6c21a288e93",
   "metadata": {},
   "source": [
    "Then we can group up the data by offender(`Age`) to analyse the offences types"
   ]
  },
  {
   "cell_type": "code",
   "execution_count": null,
   "id": "dbee12a8-7861-4254-8ea0-9d3b6e25a0e2",
   "metadata": {},
   "outputs": [],
   "source": [
    "# Group by Age and sum up the number\n",
    "df_lga_q2_group = df_lga_q2.groupby('Age').sum()\n",
    "df_lga_q2_group"
   ]
  },
  {
   "cell_type": "markdown",
   "id": "81164e0c-31c3-49f0-8e9d-5150307a517f",
   "metadata": {},
   "source": [
    "To analyse the offences types, we need to sort the number of each offences type.\n",
    "One of the methods to sort it is that we can pivot the dataframe by calling `transpose()`. Then we can compare the distribution of the different offences types in the two groups. "
   ]
  },
  {
   "cell_type": "code",
   "execution_count": null,
   "id": "adbd4857-6dc2-49dc-a7ea-23c3c9a10756",
   "metadata": {},
   "outputs": [],
   "source": [
    "# Pivot the dataframe\n",
    "df_lga_q2_group_pivot = df_lga_q2_group.transpose()\n",
    "df_lga_q2_group_pivot"
   ]
  },
  {
   "cell_type": "code",
   "execution_count": null,
   "id": "243210f9-b31e-4e2a-a51f-1f6500d68281",
   "metadata": {},
   "outputs": [],
   "source": [
    "# Add ranking columns for two groups to show the ranks of each offences type\n",
    "df_lga_q2_group_pivot['ranking_adult'] = df_lga_q2_group_pivot['Adult'].rank(ascending=False).astype('int')\n",
    "df_lga_q2_group_pivot['ranking_juvenile'] = df_lga_q2_group_pivot['Juvenile'].rank(ascending=False).astype('int')\n"
   ]
  },
  {
   "cell_type": "code",
   "execution_count": null,
   "id": "733a8999-91b9-4b5f-b385-b837ea4027db",
   "metadata": {},
   "outputs": [],
   "source": [
    "# Sort by youth crime\n",
    "df_lga_q2_group_pivot.sort_values('ranking_juvenile').head(10)[['ranking_adult', 'ranking_juvenile']]"
   ]
  },
  {
   "cell_type": "code",
   "execution_count": null,
   "id": "4786155b-6419-41f3-9e15-8301bbde9fdf",
   "metadata": {},
   "outputs": [],
   "source": [
    "# Sort by adult crime\n",
    "df_lga_q2_group_pivot.sort_values('ranking_adult').head(10)[['ranking_adult', 'ranking_juvenile']]"
   ]
  },
  {
   "cell_type": "markdown",
   "id": "5c0fe1ee-68a7-488a-bcfb-5fbec81c57e0",
   "metadata": {},
   "source": [
    "From the above two tables, it can be found there is a significant difference in prevalent offences types between the two groups. In the top 10 common crime offences type in the two groups, there are only 5 offences that are the same which are **Other offences**, **Offences Against Property**, **Other Theft (excl. Unlawful Entry)**, **Offences Against the Person**, and **Drug Offences**. \n",
    "\n",
    "The offences related to unlawful entry include **Unlawful Entry**, **Unlawful Entry With Intent - Dwelling**, and **Unlawful Entry Without Violence - Dwelling** are all prevalent offences in youth crime but not in adult crime. Furthermore, **Unlawful Use of Motor Vehicle** is also one of the crime types that common in youth crime but adult. \n",
    "\n",
    "- Ethics: Compare the common offence types of each group by sorting each group. It can show the complete top 10 crime types of each group."
   ]
  },
  {
   "cell_type": "markdown",
   "id": "9ca1e775-37ec-4eb0-b69c-e75681e9b1ea",
   "metadata": {
    "jp-MarkdownHeadingCollapsed": true,
    "tags": []
   },
   "source": [
    "##### Visualisation"
   ]
  },
  {
   "cell_type": "markdown",
   "id": "34efd16f-7852-4ffd-bbd6-7a9562a9e929",
   "metadata": {},
   "source": [
    "To visualise the comparing of the prevalent offences among adult and juvenile crime, we can use a bar chart to show two groups in two bars. Because the number of total offence types are 89, which may not be a suitable number to show all the offence types. Therefore, we pick the top **20** common crime types among youth crime to show in bar chart to compare with adult crime.\n",
    "\n",
    "- Ethics: Show the different groups in one chart and avoid using the same scale for confusing understanding. Set two y-axis on two sides can show the real situation in each group"
   ]
  },
  {
   "cell_type": "code",
   "execution_count": null,
   "id": "e89aad4b-5429-4d98-89e8-bd38d0b9f3f8",
   "metadata": {},
   "outputs": [],
   "source": [
    "# Pick the top 20 common offence types in youth crime \n",
    "df_lga_q2_group_vis = df_lga_q2_group_pivot.sort_values('ranking_juvenile').head(20)"
   ]
  },
  {
   "cell_type": "code",
   "execution_count": null,
   "id": "e12a3cb1-2d73-4ad7-86eb-d3d7df5f3319",
   "metadata": {},
   "outputs": [],
   "source": [
    "# Create two bar graph objects \n",
    "bar1 = go.Bar(name='Juvenile Offence number', x=df_lga_q2_group_vis.index, y=df_lga_q2_group_vis['Juvenile'], yaxis='y', offsetgroup=1)\n",
    "bar2 = go.Bar(name='Adult Offence number', x=df_lga_q2_group_vis.index, y=df_lga_q2_group_vis['Adult'], yaxis='y2', offsetgroup=2)\n",
    "\n",
    "# Combine two bars\n",
    "fig = go.Figure(\n",
    "    data=[bar1, bar2],\n",
    "    layout={'yaxis': {'title': 'Juvenile Offence number'},\n",
    "            'yaxis2': {'title': 'Adult Offence number','overlaying': 'y', 'side': 'right'}\n",
    "    }\n",
    ")\n",
    "\n",
    "# Layout setting\n",
    "fig.update_layout(\n",
    "    title_text=\"Offence Number in Adult and Youth Crime by Offence Types\",\n",
    "    width=16*60, height=9*60,\n",
    "    legend_title='Offender Groups',\n",
    "    legend=dict(x=1.2),\n",
    "    barmode='group'\n",
    ")\n",
    "\n",
    "fig.show()"
   ]
  },
  {
   "cell_type": "markdown",
   "id": "563f5eda-94d3-421b-b830-0ca6e503e882",
   "metadata": {},
   "source": [
    "From the above bar chart, we can find the differences between youth crime and adult crime. Firstly, crimes related to unlawful entry such as **Unlawful Entry**, **Unlawful Use of Motor Vehicle**, **Unlawful Entry With Intent - Dwelling**, and **Unlawful Entry Without Violence - Dwelling** are much more common in youth crime. However, in youth crime, drug-related offences like **Drug Offences** and **Other Drug Offences** are not as prevalent in adult crime."
   ]
  },
  {
   "cell_type": "markdown",
   "id": "9fdf87eb-42b3-415c-91f8-9c9eb1baf02a",
   "metadata": {
    "jp-MarkdownHeadingCollapsed": true,
    "tags": []
   },
   "source": [
    "##### Insight"
   ]
  },
  {
   "cell_type": "markdown",
   "id": "12b66fec-40e9-4d7f-a7d7-d9d9a0c48bbf",
   "metadata": {},
   "source": [
    "Among the top 10 common offenses between youth crime and adult crime, only five offenses are shared by both groups, which are **Other offences**, **Offences Against Property**, **Other Theft (excl. Unlawful Entry)**, **Offences Against the Person**, and **Drug Offences**.\n",
    "\n",
    "In youth crime, Offenses related to unlawful entry, including **Unlawful Entry**, **Unlawful Entry With Intent - Dwelling**, and **Unlawful Entry Without Violence - Dwelling**, are more prevalent compared to adult crime. Additionally, the **offense of Unlawful Use of Motor Vehicle** is also more common in youth crime. On the other hand, drug-related offenses, such as **Drug Offenses** and **Other Drug Offenses**, are not as prevalent in youth crime as they are in adult crime."
   ]
  },
  {
   "cell_type": "markdown",
   "id": "530f15ff-0f95-4162-b79d-100cc75a5bb5",
   "metadata": {},
   "source": [
    "### Question 2.2\n",
    "What are the differences between local areas for the common offence types in youth crime?\n",
    "- By analysing each local area, it can conclude the different common offence types by area which can help design interventions by area."
   ]
  },
  {
   "cell_type": "markdown",
   "id": "517e6a03-5355-4516-ab60-2c21b8172d66",
   "metadata": {
    "jp-MarkdownHeadingCollapsed": true,
    "tags": []
   },
   "source": [
    "##### Data "
   ]
  },
  {
   "cell_type": "markdown",
   "id": "bfb5633a-ccf3-4a32-98e4-e37a03d4a695",
   "metadata": {},
   "source": [
    "There are two data might be used in answering this question:\n",
    "1. The major data `df_lga` for analysing crime data, in here we can continuously keep using the `df_lga_q2`.\n",
    "2. The GeoJSON data `df_geo` fro visualisation "
   ]
  },
  {
   "cell_type": "markdown",
   "id": "eea12d16-4e10-4bbe-8f0c-c335dff76010",
   "metadata": {
    "jp-MarkdownHeadingCollapsed": true,
    "tags": []
   },
   "source": [
    "##### Analysis"
   ]
  },
  {
   "cell_type": "markdown",
   "id": "3e180668-d9c4-4af9-a696-7e7d2e3ced10",
   "metadata": {},
   "source": [
    "One of the methods to show the difference between these areas is that we can simply split them into several group by using `K-means`. Then analyse the features of each group. Firstly, we can use `Elbow Method` to find the suitable cluster number. Next can analyse these clusters. \n",
    "\n",
    "- Ethics: Use `Elbow Method` to find the suitable cluster number to avoid choosing a too large or too small number to split the data into no meaning groups."
   ]
  },
  {
   "cell_type": "markdown",
   "id": "968a70dc-839e-461d-93d6-3220d0566fa6",
   "metadata": {},
   "source": [
    "To determine the prevalent offences type in youth crime whether different between local areas, we can analyse the data by look into local areas. To focus on youth crime, we can filter the data with only youth crime data."
   ]
  },
  {
   "cell_type": "code",
   "execution_count": null,
   "id": "91369f5d-1199-413b-a936-a8512a644fc5",
   "metadata": {},
   "outputs": [],
   "source": [
    "# Group by 'LGA Name' and filter data to keep only 'Juvenile'\n",
    "df_lga_q2_lga = df_lga_q2[df_lga_q2['Age'] == 'Juvenile'].groupby(['LGA Name']).sum()"
   ]
  },
  {
   "cell_type": "code",
   "execution_count": null,
   "id": "f8572ce0-83ac-43a3-919b-67a1b4ea196c",
   "metadata": {},
   "outputs": [],
   "source": [
    "print(f'There are {len(df_lga_q2_lga)} local areas')"
   ]
  },
  {
   "cell_type": "markdown",
   "id": "44d7a281-ba92-41a4-aca0-60734005ab96",
   "metadata": {},
   "source": [
    "Some area may have 0 offences, these area cannot be used for ranking need to be excluded"
   ]
  },
  {
   "cell_type": "code",
   "execution_count": null,
   "id": "d7f3f46f-7541-4779-992c-1d6af6fa3cb7",
   "metadata": {},
   "outputs": [],
   "source": [
    "# Sum the tital offences number for each area\n",
    "df_lga_q2_lga['all'] = df_lga_q2_lga.sum(axis=1, numeric_only=True).astype('int')"
   ]
  },
  {
   "cell_type": "code",
   "execution_count": null,
   "id": "a2e215ad-629c-444a-9e52-258cf33f1de6",
   "metadata": {},
   "outputs": [],
   "source": [
    "# Exclude the area has 0 offence number\n",
    "df_lga_q2_lga = df_lga_q2_lga[df_lga_q2_lga['all']>0]"
   ]
  },
  {
   "cell_type": "code",
   "execution_count": null,
   "id": "09a2f0a4-e189-4b58-9225-f216fe5c74bb",
   "metadata": {},
   "outputs": [],
   "source": [
    "print(f'New there are {len(df_lga_q2_lga)} local areas')"
   ]
  },
  {
   "cell_type": "code",
   "execution_count": null,
   "id": "cfc954c9-e81e-46ac-b70e-5294f562f23a",
   "metadata": {},
   "outputs": [],
   "source": [
    "# The column 'all' can be drop, it only for remove the 0 offence number area\n",
    "df_lga_q2_lga = df_lga_q2_lga.drop('all', axis=1)"
   ]
  },
  {
   "cell_type": "markdown",
   "id": "b5936f46-dea5-47ce-a354-80655a9be51b",
   "metadata": {},
   "source": [
    "Before starting clustering, normalisation is needed due to the different scales in each local area. This number after normalisation can be considered the probability of each offence type because it divided by the sum of the all offences in each city.\n",
    "\n",
    "- Ethics: Do normalisation to keep every group is fair and can be compared on the same scale"
   ]
  },
  {
   "cell_type": "code",
   "execution_count": null,
   "id": "02307db5-8a9d-4cef-aa93-e91f5f5bf6b8",
   "metadata": {},
   "outputs": [],
   "source": [
    "# Normalise the data by rows\n",
    "normalised_df = df_lga_q2_lga.div(df_lga_q2_lga.sum(axis=1), axis=0)"
   ]
  },
  {
   "cell_type": "code",
   "execution_count": null,
   "id": "4d50137f-73a3-4fac-b92f-35624c0cfefa",
   "metadata": {},
   "outputs": [],
   "source": [
    "# Examine the result of normalisation by choosing one city \n",
    "normalised_df[normalised_df.index=='brisbane city council'].transpose().sort_values('brisbane city council', ascending=False).head(10)"
   ]
  },
  {
   "cell_type": "markdown",
   "id": "7a63ff69-a5db-4281-9f47-9bd1879e113e",
   "metadata": {},
   "source": [
    "use `Elbow Method` to show the suitable number of cluster"
   ]
  },
  {
   "cell_type": "code",
   "execution_count": null,
   "id": "55f8283d-3be1-4431-8ba9-9f63b05ac592",
   "metadata": {},
   "outputs": [],
   "source": [
    "weights = []\n",
    "lst_k = list(range(1, 10))\n",
    "\n",
    "# Calculate the score of cluster from 1 to 9\n",
    "for k in list(range(1, 10)):\n",
    "    km = KMeans(n_clusters=k, random_state=0).fit(normalised_df)\n",
    "    weights.append(km.inertia_) # Sum of squared distances of samples to their closest cluster center\n",
    "\n",
    "# Show the weights of each k\n",
    "fig_em = px.line(x=lst_k,\n",
    "                 y=weights,               \n",
    "                 markers = True,\n",
    "                 width=9*60, \n",
    "                 height=6*60)\n",
    "\n",
    "fig_em.update_layout(xaxis_title = 'Number of clusters',\n",
    "                     yaxis_title = 'Sum of squared distances',\n",
    "                     title = 'Elbow Method')\n",
    "fig_em.show()"
   ]
  },
  {
   "cell_type": "markdown",
   "id": "3f097cee-909e-4f6f-b4a3-8c481dcb562b",
   "metadata": {},
   "source": [
    "From the above `Elbow Method` figur, there are no obvious 'elbow'. However, the poinit most likely an 'elbow' is 3, we can consider `cluster number = 3` can be a suitable number. Then we can start training the `K-means` model to produce the clusters."
   ]
  },
  {
   "cell_type": "code",
   "execution_count": null,
   "id": "ca8f199f-cbb5-4d40-b3bb-c4cd155cba68",
   "metadata": {},
   "outputs": [],
   "source": [
    "# Using K-Means fit the data\n",
    "km3 = KMeans(n_clusters=3, random_state=0).fit(normalised_df)\n",
    "print('The local areas in each group:')\n",
    "print(pd.Series(km3.labels_).value_counts())"
   ]
  },
  {
   "cell_type": "code",
   "execution_count": null,
   "id": "6bba6499-1c98-4398-abb2-a7d67542d022",
   "metadata": {},
   "outputs": [],
   "source": [
    "# Put the cluster number back to the dataframe\n",
    "normalised_df['cluster'] = km3.labels_.astype('str')"
   ]
  },
  {
   "cell_type": "markdown",
   "id": "92bc8fa4-a47c-4aba-a92a-611ec2093913",
   "metadata": {},
   "source": [
    "After clustering, we can obverse the difference between each group. We can list the most common offence types in each group by calculating the average of the probability of each offence type in each group and sorting it to understand more detail about each group."
   ]
  },
  {
   "cell_type": "code",
   "execution_count": null,
   "id": "fa2ae0bc-a934-44fd-a6f3-3cdb686baf47",
   "metadata": {},
   "outputs": [],
   "source": [
    "# Take the areas name by clusters\n",
    "lst_cluster_0 = list(normalised_df[normalised_df['cluster']=='0'].index)\n",
    "lst_cluster_1 = list(normalised_df[normalised_df['cluster']=='1'].index)\n",
    "lst_cluster_2 = list(normalised_df[normalised_df['cluster']=='2'].index)"
   ]
  },
  {
   "cell_type": "code",
   "execution_count": null,
   "id": "d1da2580-5bc6-43fa-83d1-40b0aa12f2ca",
   "metadata": {},
   "outputs": [],
   "source": [
    "# Show the most common offence types in the group\n",
    "cnm_type = []\n",
    "for i, c in enumerate([lst_cluster_0, lst_cluster_1, lst_cluster_2]):\n",
    "    \n",
    "    sr = normalised_df[normalised_df.index.isin(c)][df_lga_q2_lga.columns].mean().sort_values(ascending=False).head(10)\n",
    "    \n",
    "    print(f'The most common offence types in the group {i}')\n",
    "    print(sr)\n",
    "    print('The local areas in this grouop:')\n",
    "    print(c)\n",
    "    print('----------------------------------------------------------\\n')\n",
    "    \n",
    "    # Save the offence types by clusters for visualisation\n",
    "    cnm_type.append(\"\\n     \"+\"\\n     \".join(list(sr.index)))\n"
   ]
  },
  {
   "cell_type": "markdown",
   "id": "54768206-556b-460c-81b2-e0c00c848958",
   "metadata": {},
   "source": [
    "\n",
    "In **Group 0**, the most common offence types are **other offences**, **trespassing and vagrancy**, **public nuisance**, and **good order offences**. Seems there are no more other offences happening in these areas.\n",
    "\n",
    "In **Group 1** and **Group 2**, both groups share some common offence types, but still different in the frequencies of specific offence types. **Group 1** is more focused on **property related offences** such as **Unlawful Entry With Intent - Other** and **Unlawful Entry With Intent - Dwelling**. **Group 2** had a broader range of offence types, including **property related crimes**, **other offences**, and **Drug offences**.\n"
   ]
  },
  {
   "cell_type": "markdown",
   "id": "9cae8942-8da6-4e65-bffb-7c88ac5a21c3",
   "metadata": {
    "jp-MarkdownHeadingCollapsed": true,
    "tags": []
   },
   "source": [
    "##### Visualisation"
   ]
  },
  {
   "cell_type": "markdown",
   "id": "08d14ad1-6294-4e23-8094-58678573aebc",
   "metadata": {},
   "source": [
    "From the previous analysis, the local areas have been group into 3 clusters by using `K-means`. It can be show on the map for an overall picture of the distribution of the clusters.\n",
    "\n",
    "- Ethics: To show all local areas on the map to have a comprehensive understanding of the geographic distribution and make sure the data in each area can be seen."
   ]
  },
  {
   "cell_type": "code",
   "execution_count": null,
   "id": "354d1b70-ed11-486c-a25f-a8a1d80269ba",
   "metadata": {},
   "outputs": [],
   "source": [
    "# Create a dataframe to save the common offences of each cluster\n",
    "d = {'cluster': ['0', '1', '2'], 'cnm_type': cnm_type}\n",
    "df_cnm_type = pd.DataFrame(data=d)"
   ]
  },
  {
   "cell_type": "code",
   "execution_count": null,
   "id": "18d3903a-b153-45c5-aef3-d7964fb5e7fb",
   "metadata": {},
   "outputs": [],
   "source": [
    "# Reset index for merging\n",
    "df_normalised_map = normalised_df.reset_index()"
   ]
  },
  {
   "cell_type": "code",
   "execution_count": null,
   "id": "ae7a60a0-b92a-48c5-b162-cfda360dd8da",
   "metadata": {},
   "outputs": [],
   "source": [
    "# Merge geojson data with crime data\n",
    "df_normalised_map['LGA Name'] = df_normalised_map['LGA Name'].str.lower()\n",
    "df_map_q2 = df_geo.merge(df_normalised_map, left_on='LGA Name', right_on='LGA Name', how='left')"
   ]
  },
  {
   "cell_type": "markdown",
   "id": "447dcf9f-0020-4a42-8790-e1bb295a9ed1",
   "metadata": {},
   "source": [
    "There are three area have no cluster due to no offence number, neen to exclude because no meaningful"
   ]
  },
  {
   "cell_type": "code",
   "execution_count": null,
   "id": "a71eca50-b300-4667-99cd-8c7e78c3e2f0",
   "metadata": {},
   "outputs": [],
   "source": [
    "# Exclude the null cluster\n",
    "df_map_q2 = df_map_q2[~df_map_q2['cluster'].isna()]"
   ]
  },
  {
   "cell_type": "code",
   "execution_count": null,
   "id": "4d4c7549-3a42-4f49-8286-be0568ecf705",
   "metadata": {},
   "outputs": [],
   "source": [
    "# Create a choropleth map\n",
    "fig_map_cluster = px.choropleth_mapbox(df_map_q2,\n",
    "                                       geojson=geojson_data, \n",
    "                                       locations='id_',\n",
    "                                       hover_name = \"LGA Name\",\n",
    "                                       color = 'cluster',\n",
    "                                       mapbox_style=\"open-street-map\",\n",
    "                                       opacity = 0.5,\n",
    "                                       color_discrete_map={'0':'green',\n",
    "                                                           '1':'red',\n",
    "                                                           '2':'blue'}\n",
    "                                      )\n",
    "# Layout setting\n",
    "fig_map_cluster.update_layout(\n",
    "    title ='Map 5. The Local Area Clusters with Different Common Offence Types among Youth Crime',\n",
    "    mapbox_center_lat = latitude, \n",
    "    mapbox_center_lon = longitude, \n",
    "    mapbox_zoom = 3.3,\n",
    "    margin={\"r\":0,\"t\":50,\"l\":0,\"b\":0}\n",
    ")\n",
    "\n",
    "# Show the map\n",
    "fig_map_cluster.show()\n",
    "print('note: The white areas are the local areas with 0 youth crime offence')\n",
    "\n",
    "# Show the common offence types of each cluster\n",
    "print('The common offence types of each cluster:')\n",
    "\n",
    "for index, row in df_cnm_type.iterrows():\n",
    "    print('Cluster ', row['cluster'], ':')\n",
    "    print(row['cnm_type'])\n",
    "    print('----------------------------------------------------------\\n')\n",
    "\n"
   ]
  },
  {
   "cell_type": "markdown",
   "id": "32a03ff8-e1c0-4779-90c5-837e01632388",
   "metadata": {},
   "source": [
    "From this map, all local areas can be categorised into three groups which are **Group 0**, **Group 1**, and **Group 2**. We can find that most areas fall into **Groups 1 and 2**. Furthermore, from geographic location, it seems most local areas in **Group 2** are located on the east side and south side. On the other hand, the local areas in **Group 1** are located on the west side in general. "
   ]
  },
  {
   "cell_type": "markdown",
   "id": "b5e7a34c-5642-4fc0-8c67-56cd3d43176c",
   "metadata": {
    "jp-MarkdownHeadingCollapsed": true,
    "tags": []
   },
   "source": [
    "##### Insight"
   ]
  },
  {
   "cell_type": "markdown",
   "id": "e966f769-f19a-479b-8353-e6ac2c696807",
   "metadata": {},
   "source": [
    "By analysing the offences types in local areas, we can categorise them into three groups: Group 0, Group 1, and Group 2. **Group 0** has noticeably fewer offenses compared to the other two groups. **Group 1** and **Group 2** have some common offence types, such as **Offenses Against Property**, **Other Offenses**, and **Other Property Damage**. However, **Group 1** is more focused on **property-related offenses**, like **Unlawful Entry With Intent - Other** and **Unlawful Entry With Intent - Dwelling**. On the other hand, **Group 2** has a wider range of offence types, including **property-related crimes**, **Assault** and **drug offenses**.\n"
   ]
  },
  {
   "cell_type": "markdown",
   "id": "0afd8609-b33d-4ac1-b928-7a72a889ed29",
   "metadata": {
    "tags": []
   },
   "source": [
    "## Summary"
   ]
  },
  {
   "cell_type": "markdown",
   "id": "e2727e9c-72a6-4a7a-bcb8-f44fc7396da8",
   "metadata": {},
   "source": [
    "Based on the analysis of youth crime over time in different local areas in Queensland, several key insights can be found. Overall, youth crime has not risen significantly or grown faster than adult crimes in the past two decades. However, the recent data in 2022 indicates a noticeable rise in youth crime (11% increase) compared to adult crime (3.7% increase) in the same year, it is being suggested that youth crime is becoming a growing concern in Queensland recently.\n",
    "\n",
    "When analysing monthly data from 2022, there is no significant difference in growth between youth and adult crime. However, the youth crime cases decreased by 24% in Feb 2023, but it increased by 25% in the next month Mar 2023. Compared to adult crime, the growth rates are -3% and +5% in Feb 2023 and Mar 2023, respectively. It can be concluded that the youth crime data shows more variation in a monthly crime increasing rate compared to the adult group. \n",
    "\n",
    "Analysing youth crime across all local areas in Queensland reveals some specific areas had a significant increase. Cairns stands out as an area where youth crime has significantly increased, with similar trends observed in neighboring areas like Douglas, Mareeba, and Tablelands, although the growth rate was not as high as in Cairns. Additionally, some areas such as Mackay, Sunshine Coast, and Toowoomba have experienced a medium degree increasing in youth crime.\n",
    "\n",
    "In terms of offence types, there are five common offences shared between youth and adult crime: Other offences, Offences Against Property, Other Theft (excluding Unlawful Entry), Offences Against the Person, and Drug Offences. However, offences related to unlawful entry, including Unlawful Entry, Unlawful Entry With Intent - Dwelling, and Unlawful Entry Without Violence - Dwelling are more prevalent in youth crime compared to adult crime. The offence of Unlawful Use of Motor Vehicle is also more common among youth. On the other hand, drug-related offences, such as Drug Offences and Other Drug Offences, are less common in youth crime compared to adult crime.\n",
    "\n",
    "By analysing all the offence types in different local areas allows clustering into three groups: Group 0, Group 1, and Group 2. Group 0 has significantly fewer offences compared to the other two groups. Group 1 and Group 2 share some common offence types, including Offences Against Property, Other Offences, and Other Property Damage. However, Group 1 is more focused on property-related offences, such as Unlawful Entry With Intent - Other and Unlawful Entry With Intent - Dwelling. In contrast, Group 2 shows a broader range of offence types, including property-related crimes, Assault, and drug offences.\n",
    "\n",
    "In conclusion, the analysis result indicates that youth crime in Queensland has shown some significant increase in specific months or particular areas but not in general over time. However, there is no sign showing that youth crime is mitigating. To plan more interventions on it can be necessary. Secondly, certain offence types, such as unlawful entry and motor vehicle-related offences, are more prevalent among youth. Local areas like Cairns, along with other regions such as Douglas, Mareeba, and Tablelands, have experienced notable increases in youth crime recently. These insights can inform policymakers and communities in developing targeted interventions and strategies to mitigate youth crime in different local areas. Furthermore, it can be based on the area groups to plan different policies and the local governments can share some experience with the other local councils who are in the same group. Based on the result of the analysis, these policies' direction can be helpful for address this growing concern issue. \n"
   ]
  },
  {
   "cell_type": "code",
   "execution_count": null,
   "id": "7424254e-8cd2-48e4-a26e-9063514cb2cc",
   "metadata": {},
   "outputs": [],
   "source": []
  }
 ],
 "metadata": {
  "creation_period": "",
  "kernelspec": {
   "display_name": "Python 3 (ipykernel)",
   "language": "python",
   "name": "python3"
  },
  "language_info": {
   "codemirror_mode": {
    "name": "ipython",
    "version": 3
   },
   "file_extension": ".py",
   "mimetype": "text/x-python",
   "name": "python",
   "nbconvert_exporter": "python",
   "pygments_lexer": "ipython3",
   "version": "3.9.12"
  },
  "nb_name": "template",
  "qut": {
   "creation_period": "2023_sem1",
   "nb_name": "template-assignment2",
   "unit_code": "IFN619"
  },
  "unit_code": "",
  "vscode": {
   "interpreter": {
    "hash": "d4d1e4263499bec80672ea0156c357c1ee493ec2b1c70f0acce89fc37c4a6abe"
   }
  }
 },
 "nbformat": 4,
 "nbformat_minor": 5
}
